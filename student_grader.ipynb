{
 "cells": [
  {
   "cell_type": "code",
   "execution_count": null,
   "id": "c358885a",
   "metadata": {},
   "outputs": [],
   "source": [
    "import re\n",
    "import csv\n",
    "import os\n",
    "from textwrap import fill\n",
    "import matplotlib.pyplot as plt"
   ]
  },
  {
   "cell_type": "code",
   "execution_count": null,
   "id": "b35220c2",
   "metadata": {},
   "outputs": [
    {
     "name": "stdout",
     "output_type": "stream",
     "text": [
      "Ready to compute Report Card for: Ugwu Daniel O\n"
     ]
    }
   ],
   "source": [
    "while True:\n",
    "    academic_session = input(\"Enter Academic Session eg (2020/2021): \").strip()\n",
    "    term = input(\"Enter the term: \").strip().upper()\n",
    "    student_name = input(\"Enter student name: \").strip()\n",
    "\n",
    "\n",
    "    if not student_name:\n",
    "        print(\"Student name cannot be empty.\")\n",
    "    elif not re.match(r\"^[\\w\\s\\-']+$\", student_name, re.UNICODE):\n",
    "        print(\"Name must only contain letters, spaces, hyphens, or apostrophes.\")\n",
    "    elif any(char.isdigit() or char == '_' for char in student_name):\n",
    "        print(\"Name cannot contain digits or underscores.\")\n",
    "    else:\n",
    "        student_name = student_name.title()\n",
    "        print(f\"Ready to compute Report Card for: {student_name}\")\n",
    "        break\n"
   ]
  },
  {
   "cell_type": "code",
   "execution_count": 3,
   "id": "4b1db711",
   "metadata": {},
   "outputs": [],
   "source": [
    "def get_subjects_by_class(student_class):\n",
    "    \"\"\"\n",
    "    Determines subjects based on class and stream.\n",
    "    \"\"\"\n",
    "\n",
    "    junior_subjects = [\n",
    "        \"Mathematics\", \"English\", \"Basic Science\", \"Social Studies\",\n",
    "        \"Civic Education\", \"Agricultural Science\", \"Home Economics\",\n",
    "        \"Physical Education\", \"Religious Studies\", \"Computer Studies\"\n",
    "    ]\n",
    "\n",
    "    science_subjects = [\n",
    "        \"Mathematics\", \"English\", \"Biology\", \"Physics\", \"Chemistry\", \"Economics\",\n",
    "        \"Agricultural Science\", \"Computer Science\", \"Civic Education\"\n",
    "    ]\n",
    "\n",
    "    arts_subjects = [\n",
    "        \"Mathematics\", \"English\", \"Government\", \"Economics\", \n",
    "        \"Literature\", \"Religious Studies\", \"History\", \"Civic Education\", \"Geography\"\n",
    "    ]\n",
    "\n",
    "    student_class = re.sub(r'\\W+', '', student_class.strip().lower())  # Removes any non-word character (a-z, A-Z, 0-9, _ are allowed)\n",
    "\n",
    "    if student_class.startswith('j'):\n",
    "        return junior_subjects\n",
    "\n",
    "    elif student_class == 'ss1':\n",
    "        all_senior_subjects = list(set(science_subjects + arts_subjects))\n",
    "        all_senior_subjects.sort()\n",
    "        return all_senior_subjects\n",
    "\n",
    "    elif student_class in ['ss2', 'ss3']:\n",
    "        while True:\n",
    "            stream = input(\"Are you a science or arts student? \").strip().lower()\n",
    "            if stream.startswith('s'):\n",
    "                return science_subjects\n",
    "            elif stream.startswith('a'):\n",
    "                return arts_subjects\n",
    "            else:\n",
    "                print(\"Please enter a valid stream. Enter 's' for a science student or 'a' for arts.\")\n",
    "    \n",
    "    else:\n",
    "        raise ValueError(\"Invalid class. Please enter something like 'JSS1', 'SS2', etc.\")\n"
   ]
  },
  {
   "cell_type": "code",
   "execution_count": 4,
   "id": "247ade2b",
   "metadata": {},
   "outputs": [
    {
     "name": "stdout",
     "output_type": "stream",
     "text": [
      "\n",
      "Subjects for this class:\n",
      "• Mathematics\n",
      "• English\n",
      "• Basic Science\n",
      "• Social Studies\n",
      "• Civic Education\n",
      "• Agricultural Science\n",
      "• Home Economics\n",
      "• Physical Education\n",
      "• Religious Studies\n",
      "• Computer Studies\n"
     ]
    }
   ],
   "source": [
    "while True:\n",
    "    try:\n",
    "        get_student_class = input(\"Enter student class (e.g., JSS1, SS2): \")\n",
    "        subjects = get_subjects_by_class(get_student_class)\n",
    "        print(\"\\nSubjects for this class:\")\n",
    "        for sub in subjects:\n",
    "            print(\"•\", sub)\n",
    "        break\n",
    "    except ValueError as ve:\n",
    "        print(\"An Error Occured:\", ve)"
   ]
  },
  {
   "cell_type": "code",
   "execution_count": 5,
   "id": "229701bf",
   "metadata": {},
   "outputs": [],
   "source": [
    "def get_scores(subjects):\n",
    "    \"\"\"\n",
    "    Prompts for scores per subject. Returns dictionary of scores.\n",
    "    \"\"\"\n",
    "    scores = {}\n",
    "\n",
    "    for subject in subjects:\n",
    "        while True:\n",
    "            try:\n",
    "                score_input = input(f\"Enter score for {subject}: \").strip()\n",
    "                score = float(score_input)\n",
    "                if 0 <= score <= 100:\n",
    "                    scores[subject] = score\n",
    "                    break\n",
    "                else:\n",
    "                    print(\"Score must be between 0 and 100.\")\n",
    "            except ValueError:\n",
    "                print(\"Please enter a valid number.\")\n",
    "    \n",
    "    return scores\n"
   ]
  },
  {
   "cell_type": "code",
   "execution_count": 6,
   "id": "1605faae",
   "metadata": {},
   "outputs": [
    {
     "name": "stdout",
     "output_type": "stream",
     "text": [
      "\n",
      "✅ Scores recorded successfully.\n"
     ]
    }
   ],
   "source": [
    "student_scores = get_scores(subjects)\n",
    "print(\"\\n✅ Scores recorded successfully.\")"
   ]
  },
  {
   "cell_type": "code",
   "execution_count": 7,
   "id": "a6cb7333",
   "metadata": {},
   "outputs": [],
   "source": [
    "def assign_grades(scores):\n",
    "    \"\"\"\n",
    "    Assigns grades based on score.\n",
    "    \"\"\"\n",
    "    grades = {}\n",
    "    for subject, score in scores.items():\n",
    "        if score >= 70:\n",
    "            grade = 'A'\n",
    "        elif score >= 60:\n",
    "            grade = 'B'\n",
    "        elif score >= 50:\n",
    "            grade = 'C'\n",
    "        elif score >= 45:\n",
    "            grade = 'D'\n",
    "        elif score >= 40:\n",
    "            grade = 'E'\n",
    "        else:\n",
    "            grade = 'F'\n",
    "        grades[subject] = grade\n",
    "    return grades"
   ]
  },
  {
   "cell_type": "code",
   "execution_count": 8,
   "id": "bccd7d92",
   "metadata": {},
   "outputs": [],
   "source": [
    "def get_performance_comment(average):\n",
    "    \"\"\"\n",
    "    Returns a performance comment based on average score.\n",
    "    \"\"\"\n",
    "    if average >= 85:\n",
    "        return \"🌟 An Excellent Performance!\"\n",
    "    elif average >= 70:\n",
    "        return \"✅ A Very Good Result.\"\n",
    "    elif average >= 60:\n",
    "        return \"👍 A Good Result.\"\n",
    "    elif average >= 50:\n",
    "        return \"🙂 A Fairly Good Result.\"\n",
    "    elif average >= 40:\n",
    "        return \"⚠️ Needs Improvement, Please sit-up!.\"\n",
    "    else:\n",
    "        return \"❌ Poor performance. Consider extra support.\""
   ]
  },
  {
   "cell_type": "code",
   "execution_count": 96,
   "id": "93d00309",
   "metadata": {},
   "outputs": [],
   "source": [
    "grades = assign_grades(student_scores)\n",
    "average = sum(student_scores.values()) / len(student_scores)\n",
    "comment = get_performance_comment(average)\n",
    "\n",
    "\n",
    "def print_result():\n",
    "    print(f\"\\n📋 Final Report For {student_name.upper()} (Class: {get_student_class.upper()}):\")\n",
    "    print(\"-\" * 40)\n",
    "    print(f\"{'Subject':<25}{'Score':<10}{'Grade'}\")\n",
    "    print(\"-\" * 40)\n",
    "\n",
    "    for subject in subjects:\n",
    "        score = student_scores[subject]\n",
    "        grade = grades[subject]\n",
    "        print(f\"{subject:<25}{score:<10.1f}{grade}\")\n",
    "\n",
    "    print(\"-\" * 40)\n",
    "    print(f\"{'Average Score':<25}{average:.2f}\")\n",
    "    print(f\"Comment: {comment}\")\n",
    "    \n",
    "    return"
   ]
  },
  {
   "cell_type": "code",
   "execution_count": 97,
   "id": "2e767ca7",
   "metadata": {},
   "outputs": [
    {
     "name": "stdout",
     "output_type": "stream",
     "text": [
      "\n",
      "📋 Final Report For UGWU DANIEL O (Class: J):\n",
      "----------------------------------------\n",
      "Subject                  Score     Grade\n",
      "----------------------------------------\n",
      "Mathematics              88.0      A\n",
      "English                  56.0      C\n",
      "Basic Science            97.0      A\n",
      "Social Studies           70.0      A\n",
      "Civic Education          71.0      A\n",
      "Agricultural Science     65.0      B\n",
      "Home Economics           74.0      A\n",
      "Physical Education       69.0      B\n",
      "Religious Studies        89.0      A\n",
      "Computer Studies         66.0      B\n",
      "----------------------------------------\n",
      "Average Score            74.50\n",
      "Comment: ✅ A Very Good Result.\n"
     ]
    }
   ],
   "source": [
    "print_result()"
   ]
  },
  {
   "cell_type": "code",
   "execution_count": 12,
   "id": "29bc909d",
   "metadata": {},
   "outputs": [
    {
     "name": "stdout",
     "output_type": "stream",
     "text": [
      "\n",
      "🎉 CONGRATULATIONS UGWU DANIEL O!\n",
      "You scored 6 A's and won a special gift from the school! 🎁\n"
     ]
    }
   ],
   "source": [
    "def check_gift_eligibility(grades):\n",
    "    \"\"\"\n",
    "    Checks if student has 5 or more A's.\n",
    "    \"\"\"\n",
    "    count_As = list(grades.values()).count('A')\n",
    "\n",
    "    if count_As >= 5:\n",
    "        print(f\"\\n🎉 CONGRATULATIONS {student_name.upper()}!\")\n",
    "        print(f\"You scored {count_As} A's and won a special gift from the school! 🎁\")\n",
    "    elif 0 < count_As < 5:\n",
    "        print(f\"\\n{student_name}, you scored {count_As} A's.\\nStrive harder to win a gift next term.\")\n",
    "    else:\n",
    "        print(f\"\\n{student_name}, you had no A at all.\")\n",
    "\n",
    "\n",
    "# Call the function\n",
    "check_gift_eligibility(grades)"
   ]
  },
  {
   "cell_type": "code",
   "execution_count": 36,
   "id": "9ec8dc4d",
   "metadata": {},
   "outputs": [],
   "source": [
    "# Create main \"All_Students\" folder\n",
    "main_folder = \"All_Students\"\n",
    "os.makedirs(main_folder, exist_ok=True)\n",
    "\n",
    "# Create individual student folder\n",
    "folder_name = f\"{student_name.replace(' ', '_')}_{get_student_class.upper()}\"\n",
    "student_folder = os.path.join(main_folder, folder_name)\n",
    "os.makedirs(student_folder, exist_ok=True)"
   ]
  },
  {
   "cell_type": "code",
   "execution_count": 120,
   "id": "e450a0cd",
   "metadata": {},
   "outputs": [
    {
     "name": "stdout",
     "output_type": "stream",
     "text": [
      "✅ CSV saved to: All_Students\\Ugwu_Daniel_O_J\\2024_2025_SECOND_TERM_REPORT_CARD.csv\n"
     ]
    }
   ],
   "source": [
    "# Save CSV\n",
    "filename = f\"{academic_session.replace('/', '_')}_{term.replace(' ', '_')}_REPORT_CARD\"\n",
    "\n",
    "csv_filename = os.path.join(student_folder, f\"{filename}.csv\")\n",
    "with open(csv_filename, mode='w', newline='') as file:\n",
    "    writer = csv.writer(file)\n",
    "    writer.writerow([\"Student Name\", student_name])\n",
    "    writer.writerow([\"Class\", get_student_class.upper()])\n",
    "    writer.writerow([])\n",
    "    writer.writerow([\"Subject\", \"Score\", \"Grade\"])\n",
    "    for subject in subjects:\n",
    "        writer.writerow([subject, student_scores[subject], grades[subject]])\n",
    "    writer.writerow([])\n",
    "    writer.writerow([\"Average Score\", average])\n",
    "    writer.writerow([\"Comment\", comment])\n",
    "\n",
    "print(f\"✅ CSV saved to: {csv_filename}\")"
   ]
  },
  {
   "cell_type": "code",
   "execution_count": 121,
   "id": "87940a03",
   "metadata": {},
   "outputs": [
    {
     "name": "stdout",
     "output_type": "stream",
     "text": [
      "DEBUG: Saving to -> All_Students\\Ugwu_Daniel_O_J\\2024_2025_SECOND_TERM_REPORT_CARD.csv\n"
     ]
    }
   ],
   "source": [
    "print(f\"DEBUG: Saving to -> {csv_filename}\")"
   ]
  },
  {
   "cell_type": "code",
   "execution_count": 123,
   "id": "e31d8628",
   "metadata": {},
   "outputs": [
    {
     "name": "stdout",
     "output_type": "stream",
     "text": [
      "📊 Chart saved to: All_Students\\Ugwu_Daniel_O_J\\2024_2025_SECOND_TERM_REPORT_CARD_SCORE_CHART.png\n"
     ]
    }
   ],
   "source": [
    "# Save bar chart as PNG\n",
    "plt.figure(figsize=(10, 6))\n",
    "plt.bar(student_scores.keys(), student_scores.values(), color='teal')\n",
    "plt.title(f\"{student_name}'s Performance\")\n",
    "plt.xlabel(\"Subjects\")\n",
    "plt.ylabel(\"Scores\")\n",
    "plt.xticks(rotation=45)\n",
    "plt.ylim(0, 100)\n",
    "plt.tight_layout()\n",
    "\n",
    "\n",
    "png_filename = os.path.join(student_folder, f\"{filename}_SCORE_CHART.png\")\n",
    "plt.savefig(png_filename)\n",
    "plt.close()\n",
    "\n",
    "print(f\"📊 Chart saved to: {png_filename}\")\n"
   ]
  },
  {
   "cell_type": "code",
   "execution_count": 107,
   "id": "628a8fe5",
   "metadata": {},
   "outputs": [],
   "source": [
    "# Prepare performance summary\n",
    "highest_subject = max(student_scores, key=student_scores.get)\n",
    "lowest_subject = min(student_scores, key=student_scores.get)\n",
    "highest_score = student_scores[highest_subject]\n",
    "lowest_score = student_scores[lowest_subject]\n",
    "comment = get_performance_comment(average)\n",
    "\n",
    "# Subjects below 41\n",
    "poor_subjects = [subj for subj, score in student_scores.items() if score < 41]\n",
    "if poor_subjects:\n",
    "    poor_subjects_text = \"You need to buckle down in: \" + \", \".join(poor_subjects)\n",
    "else:\n",
    "    poor_subjects_text = \"No major subject weaknesses.\"\n",
    "\n",
    "# Combine and wrap summary text\n",
    "summary_text = (\n",
    "    f\"Report Summary:\"\n",
    "    f\"Top: {highest_subject} ({highest_score})\\n\"\n",
    "    f\"Lowest: {lowest_subject} ({lowest_score})\\n\"\n",
    "    f\"Average: {average:.2f}\\n\"\n",
    "    # f\"{comment}\\n\"\n",
    "    f\"{poor_subjects_text}\"\n",
    ")\n",
    "\n",
    "# Wrap text for better fitting\n",
    "wrapped_text = fill(summary_text, width=100)\n",
    "# wrapped_text = \"\\n\".join(textwrap.wrap(summary_text, width=60))"
   ]
  },
  {
   "cell_type": "code",
   "execution_count": null,
   "id": "0abc145e",
   "metadata": {},
   "outputs": [
    {
     "name": "stdout",
     "output_type": "stream",
     "text": [
      "Top: Religious Studies (90.0) Lowest: Civic Education (49.0)\n",
      "Average: 71.67 — ✅ A Very Good Result. No major subject\n",
      "weaknesses.\n"
     ]
    }
   ],
   "source": [
    "# print(wrapped_text)"
   ]
  },
  {
   "cell_type": "code",
   "execution_count": null,
   "id": "8f73e3a6",
   "metadata": {},
   "outputs": [
    {
     "name": "stdout",
     "output_type": "stream",
     "text": [
      "📊 Chart with embedded summary saved to: All_Students\\Obode_Mmaduka_SS2\\score_chart.png\n"
     ]
    },
    {
     "name": "stderr",
     "output_type": "stream",
     "text": [
      "C:\\Users\\ugwua\\AppData\\Local\\Temp\\ipykernel_45768\\3278230663.py:18: UserWarning: Glyph 9989 (\\N{WHITE HEAVY CHECK MARK}) missing from current font.\n",
      "  plt.savefig(png_filename)\n"
     ]
    }
   ],
   "source": [
    "# Plot\n",
    "plt.figure(figsize=(12, 8))\n",
    "bars = plt.bar(student_scores.keys(), student_scores.values(), color='skyblue')\n",
    "plt.title(f\"{student_name}'s Subject Performance\", fontsize=14)\n",
    "plt.xlabel(\"Subjects\")\n",
    "plt.ylabel(\"Scores\")\n",
    "plt.ylim(0, 100)\n",
    "plt.xticks(rotation=45)\n",
    "\n",
    "# Add wrapped summary text BELOW the chart\n",
    "plt.gcf().text(0.5, 0.01, wrapped_text, fontsize=10, va='bottom', ha='center',\n",
    "               bbox=dict(facecolor='white', alpha=0.8))\n",
    "\n",
    "plt.tight_layout(rect=[0, 0.08, 1, 1])  # Add space for the summary at the bottom\n",
    "\n",
    "# Save chart\n",
    "png_filename = os.path.join(student_folder, academic_session, term, \"score_chart.png\")\n",
    "plt.savefig(png_filename)\n",
    "plt.close()\n",
    "\n",
    "print(f\"📊 Chart with embedded summary saved to: {png_filename}\")"
   ]
  },
  {
   "cell_type": "code",
   "execution_count": null,
   "id": "9a644cd3",
   "metadata": {},
   "outputs": [
    {
     "name": "stdout",
     "output_type": "stream",
     "text": [
      "✅ PDF report saved to: All_Students\\David_C_Ugwu_SS3\\report.pdf\n"
     ]
    }
   ],
   "source": [
    "from fpdf import FPDF\n",
    "from datetime import datetime\n",
    "\n",
    "# Create a PDF object\n",
    "pdf = FPDF()\n",
    "pdf.add_page()\n",
    "\n",
    "# Set title\n",
    "pdf.set_font(\"Arial\", \"B\", 16)\n",
    "pdf.cell(0, 10, f\"{student_name}'s Academic Report\", ln=True, align=\"C\")\n",
    "\n",
    "# Add date\n",
    "pdf.set_font(\"Arial\", \"\", 10)\n",
    "pdf.cell(0, 10, f\"Date: {datetime.now().strftime('%d-%b-%Y')}\", ln=True, align=\"R\")\n",
    "\n",
    "# Add student details\n",
    "pdf.ln(5)\n",
    "pdf.set_font(\"Arial\", \"\", 12)\n",
    "pdf.cell(0, 10, f\"Name: {student_name}\", ln=True)\n",
    "pdf.cell(0, 10, f\"Class: {get_student_class.upper()}\", ln=True)\n",
    "\n",
    "\n",
    "\n",
    "# Add chart image\n",
    "pdf.ln(5)\n",
    "chart_path = png_filename  # Already saved earlier\n",
    "pdf.image(chart_path, x=10, y=None, w=pdf.w - 20)\n",
    "\n",
    "# Replace em dash and strip out unsupported characters\n",
    "summary_text_clean = summary_text.replace(\"—\", \"-\").encode('latin-1', 'ignore').decode('latin-1')\n",
    "\n",
    "# Add textual summary below chart\n",
    "pdf.ln(5)\n",
    "pdf.set_font(\"Arial\", \"\", 11)\n",
    "pdf.multi_cell(0, 8, summary_text_clean)\n",
    "\n",
    "# Save PDF in student folder\n",
    "pdf_path = os.path.join(student_folder, \"report.pdf\")\n",
    "pdf.output(pdf_path)\n",
    "\n",
    "print(f\"✅ PDF report saved to: {pdf_path}\")\n"
   ]
  },
  {
   "cell_type": "code",
   "execution_count": null,
   "id": "117e0836",
   "metadata": {},
   "outputs": [],
   "source": [
    "# from fpdf import FPDF\n",
    "\n",
    "# pdf = FPDF()\n",
    "# pdf.add_page()\n",
    "# pdf.set_font(\"Helvetica\", size=12)\n",
    "\n",
    "# # No need to sanitize text — fpdf2 handles UTF-8\n",
    "# summary_text = (\n",
    "#     f\"Top: {highest_subject} ({highest_score})\\n\"\n",
    "#     f\"Lowest: {lowest_subject} ({lowest_score})\\n\"\n",
    "#     f\"Average: {average:.2f} — {comment}\\n\"\n",
    "#     f\"{poor_subjects_text}\"\n",
    "# )\n",
    "\n",
    "# pdf.multi_cell(0, 10, summary_text)\n",
    "\n",
    "# # Add image (chart)\n",
    "# pdf.image(chart_path, x=10, y=None, w=pdf.w - 20)\n",
    "\n",
    "# pdf.output(pdf_path)"
   ]
  },
  {
   "cell_type": "code",
   "execution_count": 127,
   "id": "ec023f5b",
   "metadata": {},
   "outputs": [
    {
     "ename": "UnicodeEncodeError",
     "evalue": "'latin-1' codec can't encode character '\\U0001f642' in position 771: ordinal not in range(256)",
     "output_type": "error",
     "traceback": [
      "\u001b[1;31m---------------------------------------------------------------------------\u001b[0m",
      "\u001b[1;31mUnicodeEncodeError\u001b[0m                        Traceback (most recent call last)",
      "Cell \u001b[1;32mIn[127], line 59\u001b[0m\n\u001b[0;32m     57\u001b[0m \u001b[38;5;66;03m# Save PDF\u001b[39;00m\n\u001b[0;32m     58\u001b[0m pdf_path \u001b[38;5;241m=\u001b[39m os\u001b[38;5;241m.\u001b[39mpath\u001b[38;5;241m.\u001b[39mjoin(student_folder, \u001b[38;5;124m\"\u001b[39m\u001b[38;5;124mreport.pdf\u001b[39m\u001b[38;5;124m\"\u001b[39m)\n\u001b[1;32m---> 59\u001b[0m pdf\u001b[38;5;241m.\u001b[39moutput(pdf_path)\n\u001b[0;32m     61\u001b[0m \u001b[38;5;28mprint\u001b[39m(\u001b[38;5;124mf\u001b[39m\u001b[38;5;124m\"\u001b[39m\u001b[38;5;124m✅ PDF report with chart and table saved to: \u001b[39m\u001b[38;5;132;01m{\u001b[39;00mpdf_path\u001b[38;5;132;01m}\u001b[39;00m\u001b[38;5;124m\"\u001b[39m)\n",
      "File \u001b[1;32mc:\\Users\\ugwua\\anaconda3\\Lib\\site-packages\\fpdf\\fpdf.py:1065\u001b[0m, in \u001b[0;36mFPDF.output\u001b[1;34m(self, name, dest)\u001b[0m\n\u001b[0;32m   1063\u001b[0m \u001b[38;5;66;03m#Finish document if necessary\u001b[39;00m\n\u001b[0;32m   1064\u001b[0m \u001b[38;5;28;01mif\u001b[39;00m(\u001b[38;5;28mself\u001b[39m\u001b[38;5;241m.\u001b[39mstate\u001b[38;5;241m<\u001b[39m\u001b[38;5;241m3\u001b[39m):\n\u001b[1;32m-> 1065\u001b[0m     \u001b[38;5;28mself\u001b[39m\u001b[38;5;241m.\u001b[39mclose()\n\u001b[0;32m   1066\u001b[0m dest\u001b[38;5;241m=\u001b[39mdest\u001b[38;5;241m.\u001b[39mupper()\n\u001b[0;32m   1067\u001b[0m \u001b[38;5;28;01mif\u001b[39;00m(dest\u001b[38;5;241m==\u001b[39m\u001b[38;5;124m'\u001b[39m\u001b[38;5;124m'\u001b[39m):\n",
      "File \u001b[1;32mc:\\Users\\ugwua\\anaconda3\\Lib\\site-packages\\fpdf\\fpdf.py:246\u001b[0m, in \u001b[0;36mFPDF.close\u001b[1;34m(self)\u001b[0m\n\u001b[0;32m    244\u001b[0m \u001b[38;5;28mself\u001b[39m\u001b[38;5;241m.\u001b[39m_endpage()\n\u001b[0;32m    245\u001b[0m \u001b[38;5;66;03m#close document\u001b[39;00m\n\u001b[1;32m--> 246\u001b[0m \u001b[38;5;28mself\u001b[39m\u001b[38;5;241m.\u001b[39m_enddoc()\n",
      "File \u001b[1;32mc:\\Users\\ugwua\\anaconda3\\Lib\\site-packages\\fpdf\\fpdf.py:1636\u001b[0m, in \u001b[0;36mFPDF._enddoc\u001b[1;34m(self)\u001b[0m\n\u001b[0;32m   1634\u001b[0m \u001b[38;5;28;01mdef\u001b[39;00m \u001b[38;5;21m_enddoc\u001b[39m(\u001b[38;5;28mself\u001b[39m):\n\u001b[0;32m   1635\u001b[0m     \u001b[38;5;28mself\u001b[39m\u001b[38;5;241m.\u001b[39m_putheader()\n\u001b[1;32m-> 1636\u001b[0m     \u001b[38;5;28mself\u001b[39m\u001b[38;5;241m.\u001b[39m_putpages()\n\u001b[0;32m   1637\u001b[0m     \u001b[38;5;28mself\u001b[39m\u001b[38;5;241m.\u001b[39m_putresources()\n\u001b[0;32m   1638\u001b[0m     \u001b[38;5;66;03m#Info\u001b[39;00m\n",
      "File \u001b[1;32mc:\\Users\\ugwua\\anaconda3\\Lib\\site-packages\\fpdf\\fpdf.py:1170\u001b[0m, in \u001b[0;36mFPDF._putpages\u001b[1;34m(self)\u001b[0m\n\u001b[0;32m   1167\u001b[0m \u001b[38;5;66;03m#Page content\u001b[39;00m\n\u001b[0;32m   1168\u001b[0m \u001b[38;5;28;01mif\u001b[39;00m \u001b[38;5;28mself\u001b[39m\u001b[38;5;241m.\u001b[39mcompress:\n\u001b[0;32m   1169\u001b[0m     \u001b[38;5;66;03m# manage binary data as latin1 until PEP461 or similar is implemented\u001b[39;00m\n\u001b[1;32m-> 1170\u001b[0m     p \u001b[38;5;241m=\u001b[39m \u001b[38;5;28mself\u001b[39m\u001b[38;5;241m.\u001b[39mpages[n]\u001b[38;5;241m.\u001b[39mencode(\u001b[38;5;124m\"\u001b[39m\u001b[38;5;124mlatin1\u001b[39m\u001b[38;5;124m\"\u001b[39m) \u001b[38;5;28;01mif\u001b[39;00m PY3K \u001b[38;5;28;01melse\u001b[39;00m \u001b[38;5;28mself\u001b[39m\u001b[38;5;241m.\u001b[39mpages[n] \n\u001b[0;32m   1171\u001b[0m     p \u001b[38;5;241m=\u001b[39m zlib\u001b[38;5;241m.\u001b[39mcompress(p)\n\u001b[0;32m   1172\u001b[0m \u001b[38;5;28;01melse\u001b[39;00m:\n",
      "\u001b[1;31mUnicodeEncodeError\u001b[0m: 'latin-1' codec can't encode character '\\U0001f642' in position 771: ordinal not in range(256)"
     ]
    }
   ],
   "source": [
    "from fpdf import FPDF\n",
    "from datetime import datetime\n",
    "\n",
    "class PDFReport(FPDF):\n",
    "    def header(self):\n",
    "        self.set_font(\"Helvetica\", \"B\", 16)\n",
    "        self.cell(0, 10, f\"{student_name}'s Academic Report\", ln=True, align=\"C\")\n",
    "        self.set_font(\"Helvetica\", \"\", 10)\n",
    "        self.cell(0, 10, f\"Date: {datetime.now().strftime('%d %b %Y')}\", ln=True, align=\"R\")\n",
    "        self.ln(5)\n",
    "\n",
    "    def add_student_info(self, name, student_class):\n",
    "        self.set_font(\"Helvetica\", \"\", 12)\n",
    "        self.cell(0, 10, f\"Name: {name}\", ln=True)\n",
    "        self.cell(0, 10, f\"Class: {student_class.upper()}\", ln=True)\n",
    "        self.ln(5)\n",
    "\n",
    "    def add_score_table(self, scores_dict, grades_dict):\n",
    "        self.set_font(\"Helvetica\", \"B\", 12)\n",
    "        self.cell(60, 10, \"Subject\", 1)\n",
    "        self.cell(40, 10, \"Score\", 1)\n",
    "        self.cell(40, 10, \"Grade\", 1, ln=True)\n",
    "\n",
    "        self.set_font(\"Helvetica\", \"\", 12)\n",
    "        for subject, score in scores_dict.items():\n",
    "            self.cell(60, 10, subject, 1)\n",
    "            self.cell(40, 10, str(score), 1)\n",
    "            self.cell(40, 10, grades_dict[subject], 1, ln=True)\n",
    "        self.ln(5)\n",
    "\n",
    "    def add_summary(self, summary_text):\n",
    "        self.set_font(\"Helvetica\", \"\", 11)\n",
    "        self.multi_cell(0, 8, summary_text)\n",
    "        self.ln(5)\n",
    "\n",
    "    def add_chart(self, chart_path):\n",
    "        self.image(chart_path, x=15, w=180)\n",
    "        self.ln(10)\n",
    "\n",
    "# Instantiate PDF\n",
    "pdf = PDFReport()\n",
    "pdf.add_page()\n",
    "\n",
    "# Add student info\n",
    "pdf.add_student_info(student_name, get_student_class)\n",
    "\n",
    "# Add chart image\n",
    "pdf.add_chart(png_filename)\n",
    "\n",
    "# Add score table\n",
    "pdf.add_score_table(student_scores, grades)\n",
    "\n",
    "# Clean summary text (just in case)\n",
    "summary_text_clean = summary_text.replace(\"—\", \"-\")\n",
    "pdf.add_summary(summary_text_clean)\n",
    "\n",
    "# Save PDF\n",
    "pdf_path = os.path.join(student_folder, \"report.pdf\")\n",
    "pdf.output(pdf_path)\n",
    "\n",
    "print(f\"✅ PDF report with chart and table saved to: {pdf_path}\")\n"
   ]
  },
  {
   "cell_type": "code",
   "execution_count": 5,
   "id": "579d0981",
   "metadata": {},
   "outputs": [],
   "source": [
    "import fpdf"
   ]
  },
  {
   "cell_type": "code",
   "execution_count": 26,
   "id": "806b49dd",
   "metadata": {},
   "outputs": [],
   "source": [
    "from fpdf import FPDF\n",
    "import os\n",
    "\n",
    "def generate_pdf_report(student_name, get_student_class, student_scores, grades, average, comment, wrapped_text, student_folder):\n",
    "    pdf = FPDF()\n",
    "    pdf.add_page()\n",
    "\n",
    "    pdf.set_font(\"Arial\", size=14)\n",
    "    pdf.cell(200, 10, f\"Result Report for {student_name}\", ln=True, align=\"C\")\n",
    "    pdf.set_font(\"Arial\", size=12)\n",
    "    pdf.cell(200, 10, f\"Class: {get_student_class.upper()}\", ln=True, align=\"C\")\n",
    "    pdf.ln(10)\n",
    "\n",
    "    # Table Header\n",
    "    pdf.set_font(\"Arial\", \"B\", 12)\n",
    "    pdf.cell(60, 10, \"Subject\", border=1)\n",
    "    pdf.cell(40, 10, \"Score\", border=1)\n",
    "    pdf.cell(40, 10, \"Grade\", border=1)\n",
    "    pdf.ln()\n",
    "\n",
    "    # Table Rows\n",
    "    pdf.set_font(\"Arial\", \"\", 12)\n",
    "    for subject in student_scores:\n",
    "        pdf.cell(60, 10, subject, border=1)\n",
    "        pdf.cell(40, 10, str(student_scores[subject]), border=1)\n",
    "        pdf.cell(40, 10, grades[subject], border=1)\n",
    "        pdf.ln()\n",
    "\n",
    "    pdf.ln(10)\n",
    "    pdf.cell(0, 10, f\"Average Score: {average:.2f}\", ln=True)\n",
    "    pdf.multi_cell(0, 10, f\"Comment: {comment}\")\n",
    "\n",
    "    pdf.ln(5)\n",
    "    pdf.multi_cell(0, 10, f\"📌 Summary:\\n{wrapped_text}\")\n",
    "\n",
    "    # Embed chart\n",
    "    chart_path = os.path.join(student_folder, \"score_chart.png\")\n",
    "    if os.path.exists(chart_path):\n",
    "        pdf.image(chart_path, x=10, y=None, w=180)\n",
    "\n",
    "    # Save PDF\n",
    "    pdf_path = os.path.join(student_folder, \"report.pdf\")\n",
    "    pdf.output(pdf_path)\n",
    "    print(f\"📝 PDF saved to: {pdf_path}\")\n"
   ]
  },
  {
   "cell_type": "code",
   "execution_count": 27,
   "id": "1d62c7dd",
   "metadata": {},
   "outputs": [
    {
     "name": "stderr",
     "output_type": "stream",
     "text": [
      "C:\\Users\\ugwua\\AppData\\Local\\Temp\\ipykernel_45768\\2202287653.py:8: DeprecationWarning: Substituting font arial by core font helvetica - This is deprecated since v2.7.8, and will soon be removed\n",
      "  pdf.set_font(\"Arial\", size=14)\n",
      "C:\\Users\\ugwua\\AppData\\Local\\Temp\\ipykernel_45768\\2202287653.py:9: DeprecationWarning: The parameter \"ln\" is deprecated since v2.5.2. Instead of ln=True use new_x=XPos.LMARGIN, new_y=YPos.NEXT.\n",
      "  pdf.cell(200, 10, f\"Result Report for {student_name}\", ln=True, align=\"C\")\n",
      "C:\\Users\\ugwua\\AppData\\Local\\Temp\\ipykernel_45768\\2202287653.py:10: DeprecationWarning: Substituting font arial by core font helvetica - This is deprecated since v2.7.8, and will soon be removed\n",
      "  pdf.set_font(\"Arial\", size=12)\n",
      "C:\\Users\\ugwua\\AppData\\Local\\Temp\\ipykernel_45768\\2202287653.py:11: DeprecationWarning: The parameter \"ln\" is deprecated since v2.5.2. Instead of ln=True use new_x=XPos.LMARGIN, new_y=YPos.NEXT.\n",
      "  pdf.cell(200, 10, f\"Class: {get_student_class.upper()}\", ln=True, align=\"C\")\n",
      "C:\\Users\\ugwua\\AppData\\Local\\Temp\\ipykernel_45768\\2202287653.py:15: DeprecationWarning: Substituting font arial by core font helvetica - This is deprecated since v2.7.8, and will soon be removed\n",
      "  pdf.set_font(\"Arial\", \"B\", 12)\n",
      "C:\\Users\\ugwua\\AppData\\Local\\Temp\\ipykernel_45768\\2202287653.py:22: DeprecationWarning: Substituting font arial by core font helvetica - This is deprecated since v2.7.8, and will soon be removed\n",
      "  pdf.set_font(\"Arial\", \"\", 12)\n",
      "C:\\Users\\ugwua\\AppData\\Local\\Temp\\ipykernel_45768\\2202287653.py:30: DeprecationWarning: The parameter \"ln\" is deprecated since v2.5.2. Instead of ln=True use new_x=XPos.LMARGIN, new_y=YPos.NEXT.\n",
      "  pdf.cell(0, 10, f\"Average Score: {average:.2f}\", ln=True)\n"
     ]
    },
    {
     "ename": "FPDFUnicodeEncodingException",
     "evalue": "Character \"👍\" at index 9 in text is outside the range of characters supported by the font used: \"helvetica\". Please consider using a Unicode font.",
     "output_type": "error",
     "traceback": [
      "\u001b[1;31m---------------------------------------------------------------------------\u001b[0m",
      "\u001b[1;31mUnicodeEncodeError\u001b[0m                        Traceback (most recent call last)",
      "File \u001b[1;32mc:\\Users\\ugwua\\anaconda3\\Lib\\site-packages\\fpdf\\fpdf.py:4873\u001b[0m, in \u001b[0;36mFPDF.normalize_text\u001b[1;34m(self, text)\u001b[0m\n\u001b[0;32m   4872\u001b[0m \u001b[38;5;28;01mtry\u001b[39;00m:\n\u001b[1;32m-> 4873\u001b[0m     \u001b[38;5;28;01mreturn\u001b[39;00m text\u001b[38;5;241m.\u001b[39mencode(\u001b[38;5;28mself\u001b[39m\u001b[38;5;241m.\u001b[39mcore_fonts_encoding)\u001b[38;5;241m.\u001b[39mdecode(\u001b[38;5;124m\"\u001b[39m\u001b[38;5;124mlatin-1\u001b[39m\u001b[38;5;124m\"\u001b[39m)\n\u001b[0;32m   4874\u001b[0m \u001b[38;5;28;01mexcept\u001b[39;00m \u001b[38;5;167;01mUnicodeEncodeError\u001b[39;00m \u001b[38;5;28;01mas\u001b[39;00m error:\n",
      "\u001b[1;31mUnicodeEncodeError\u001b[0m: 'latin-1' codec can't encode character '\\U0001f44d' in position 9: ordinal not in range(256)",
      "\nThe above exception was the direct cause of the following exception:\n",
      "\u001b[1;31mFPDFUnicodeEncodingException\u001b[0m              Traceback (most recent call last)",
      "Cell \u001b[1;32mIn[27], line 1\u001b[0m\n\u001b[1;32m----> 1\u001b[0m generate_pdf_report(\n\u001b[0;32m      2\u001b[0m     student_name\u001b[38;5;241m=\u001b[39mstudent_name,\n\u001b[0;32m      3\u001b[0m     get_student_class\u001b[38;5;241m=\u001b[39mget_student_class,\n\u001b[0;32m      4\u001b[0m     student_scores\u001b[38;5;241m=\u001b[39mstudent_scores,\n\u001b[0;32m      5\u001b[0m     grades\u001b[38;5;241m=\u001b[39mgrades,\n\u001b[0;32m      6\u001b[0m     average\u001b[38;5;241m=\u001b[39maverage,\n\u001b[0;32m      7\u001b[0m     comment\u001b[38;5;241m=\u001b[39mcomment,\n\u001b[0;32m      8\u001b[0m     wrapped_text\u001b[38;5;241m=\u001b[39mwrapped_text,\n\u001b[0;32m      9\u001b[0m     student_folder\u001b[38;5;241m=\u001b[39mstudent_folder\n\u001b[0;32m     10\u001b[0m )\n",
      "Cell \u001b[1;32mIn[26], line 31\u001b[0m, in \u001b[0;36mgenerate_pdf_report\u001b[1;34m(student_name, get_student_class, student_scores, grades, average, comment, wrapped_text, student_folder)\u001b[0m\n\u001b[0;32m     29\u001b[0m pdf\u001b[38;5;241m.\u001b[39mln(\u001b[38;5;241m10\u001b[39m)\n\u001b[0;32m     30\u001b[0m pdf\u001b[38;5;241m.\u001b[39mcell(\u001b[38;5;241m0\u001b[39m, \u001b[38;5;241m10\u001b[39m, \u001b[38;5;124mf\u001b[39m\u001b[38;5;124m\"\u001b[39m\u001b[38;5;124mAverage Score: \u001b[39m\u001b[38;5;132;01m{\u001b[39;00maverage\u001b[38;5;132;01m:\u001b[39;00m\u001b[38;5;124m.2f\u001b[39m\u001b[38;5;132;01m}\u001b[39;00m\u001b[38;5;124m\"\u001b[39m, ln\u001b[38;5;241m=\u001b[39m\u001b[38;5;28;01mTrue\u001b[39;00m)\n\u001b[1;32m---> 31\u001b[0m pdf\u001b[38;5;241m.\u001b[39mmulti_cell(\u001b[38;5;241m0\u001b[39m, \u001b[38;5;241m10\u001b[39m, \u001b[38;5;124mf\u001b[39m\u001b[38;5;124m\"\u001b[39m\u001b[38;5;124mComment: \u001b[39m\u001b[38;5;132;01m{\u001b[39;00mcomment\u001b[38;5;132;01m}\u001b[39;00m\u001b[38;5;124m\"\u001b[39m)\n\u001b[0;32m     33\u001b[0m pdf\u001b[38;5;241m.\u001b[39mln(\u001b[38;5;241m5\u001b[39m)\n\u001b[0;32m     34\u001b[0m pdf\u001b[38;5;241m.\u001b[39mmulti_cell(\u001b[38;5;241m0\u001b[39m, \u001b[38;5;241m10\u001b[39m, \u001b[38;5;124mf\u001b[39m\u001b[38;5;124m\"\u001b[39m\u001b[38;5;124m📌 Summary:\u001b[39m\u001b[38;5;130;01m\\n\u001b[39;00m\u001b[38;5;132;01m{\u001b[39;00mwrapped_text\u001b[38;5;132;01m}\u001b[39;00m\u001b[38;5;124m\"\u001b[39m)\n",
      "File \u001b[1;32mc:\\Users\\ugwua\\anaconda3\\Lib\\site-packages\\fpdf\\fpdf.py:221\u001b[0m, in \u001b[0;36mcheck_page.<locals>.wrapper\u001b[1;34m(self, *args, **kwargs)\u001b[0m\n\u001b[0;32m    219\u001b[0m \u001b[38;5;28;01mif\u001b[39;00m \u001b[38;5;129;01mnot\u001b[39;00m \u001b[38;5;28mself\u001b[39m\u001b[38;5;241m.\u001b[39mpage \u001b[38;5;129;01mand\u001b[39;00m \u001b[38;5;129;01mnot\u001b[39;00m (kwargs\u001b[38;5;241m.\u001b[39mget(\u001b[38;5;124m\"\u001b[39m\u001b[38;5;124mdry_run\u001b[39m\u001b[38;5;124m\"\u001b[39m) \u001b[38;5;129;01mor\u001b[39;00m kwargs\u001b[38;5;241m.\u001b[39mget(\u001b[38;5;124m\"\u001b[39m\u001b[38;5;124msplit_only\u001b[39m\u001b[38;5;124m\"\u001b[39m)):\n\u001b[0;32m    220\u001b[0m     \u001b[38;5;28;01mraise\u001b[39;00m FPDFException(\u001b[38;5;124m\"\u001b[39m\u001b[38;5;124mNo page open, you need to call add_page() first\u001b[39m\u001b[38;5;124m\"\u001b[39m)\n\u001b[1;32m--> 221\u001b[0m \u001b[38;5;28;01mreturn\u001b[39;00m fn(\u001b[38;5;28mself\u001b[39m, \u001b[38;5;241m*\u001b[39margs, \u001b[38;5;241m*\u001b[39m\u001b[38;5;241m*\u001b[39mkwargs)\n",
      "File \u001b[1;32mc:\\Users\\ugwua\\anaconda3\\Lib\\site-packages\\fpdf\\deprecation.py:32\u001b[0m, in \u001b[0;36msupport_deprecated_txt_arg.<locals>.wrapper\u001b[1;34m(self, *args, **kwargs)\u001b[0m\n\u001b[0;32m     26\u001b[0m     kwargs[\u001b[38;5;124m\"\u001b[39m\u001b[38;5;124mtext\u001b[39m\u001b[38;5;124m\"\u001b[39m] \u001b[38;5;241m=\u001b[39m txt_value\n\u001b[0;32m     27\u001b[0m     warnings\u001b[38;5;241m.\u001b[39mwarn(\n\u001b[0;32m     28\u001b[0m         \u001b[38;5;124m'\u001b[39m\u001b[38;5;124mThe parameter \u001b[39m\u001b[38;5;124m\"\u001b[39m\u001b[38;5;124mtxt\u001b[39m\u001b[38;5;124m\"\u001b[39m\u001b[38;5;124m has been renamed to \u001b[39m\u001b[38;5;124m\"\u001b[39m\u001b[38;5;124mtext\u001b[39m\u001b[38;5;124m\"\u001b[39m\u001b[38;5;124m in 2.7.6\u001b[39m\u001b[38;5;124m'\u001b[39m,\n\u001b[0;32m     29\u001b[0m         \u001b[38;5;167;01mDeprecationWarning\u001b[39;00m,\n\u001b[0;32m     30\u001b[0m         stacklevel\u001b[38;5;241m=\u001b[39mget_stack_level(),\n\u001b[0;32m     31\u001b[0m     )\n\u001b[1;32m---> 32\u001b[0m \u001b[38;5;28;01mreturn\u001b[39;00m fn(\u001b[38;5;28mself\u001b[39m, \u001b[38;5;241m*\u001b[39margs, \u001b[38;5;241m*\u001b[39m\u001b[38;5;241m*\u001b[39mkwargs)\n",
      "File \u001b[1;32mc:\\Users\\ugwua\\anaconda3\\Lib\\site-packages\\fpdf\\fpdf.py:4147\u001b[0m, in \u001b[0;36mFPDF.multi_cell\u001b[1;34m(self, w, h, text, border, align, fill, split_only, link, ln, max_line_height, markdown, print_sh, new_x, new_y, wrapmode, dry_run, output, center, padding)\u001b[0m\n\u001b[0;32m   4144\u001b[0m     prev_x \u001b[38;5;241m=\u001b[39m \u001b[38;5;28mself\u001b[39m\u001b[38;5;241m.\u001b[39mx\n\u001b[0;32m   4146\u001b[0m \u001b[38;5;66;03m# Calculate text length\u001b[39;00m\n\u001b[1;32m-> 4147\u001b[0m text \u001b[38;5;241m=\u001b[39m \u001b[38;5;28mself\u001b[39m\u001b[38;5;241m.\u001b[39mnormalize_text(text)\n\u001b[0;32m   4148\u001b[0m normalized_string \u001b[38;5;241m=\u001b[39m text\u001b[38;5;241m.\u001b[39mreplace(\u001b[38;5;124m\"\u001b[39m\u001b[38;5;130;01m\\r\u001b[39;00m\u001b[38;5;124m\"\u001b[39m, \u001b[38;5;124m\"\u001b[39m\u001b[38;5;124m\"\u001b[39m)\n\u001b[0;32m   4149\u001b[0m styled_text_fragments \u001b[38;5;241m=\u001b[39m (\n\u001b[0;32m   4150\u001b[0m     \u001b[38;5;28mself\u001b[39m\u001b[38;5;241m.\u001b[39m_preload_bidirectional_text(normalized_string, markdown)\n\u001b[0;32m   4151\u001b[0m     \u001b[38;5;28;01mif\u001b[39;00m \u001b[38;5;28mself\u001b[39m\u001b[38;5;241m.\u001b[39mtext_shaping\n\u001b[0;32m   4152\u001b[0m     \u001b[38;5;28;01melse\u001b[39;00m \u001b[38;5;28mself\u001b[39m\u001b[38;5;241m.\u001b[39m_preload_font_styles(normalized_string, markdown)\n\u001b[0;32m   4153\u001b[0m )\n",
      "File \u001b[1;32mc:\\Users\\ugwua\\anaconda3\\Lib\\site-packages\\fpdf\\fpdf.py:4875\u001b[0m, in \u001b[0;36mFPDF.normalize_text\u001b[1;34m(self, text)\u001b[0m\n\u001b[0;32m   4873\u001b[0m         \u001b[38;5;28;01mreturn\u001b[39;00m text\u001b[38;5;241m.\u001b[39mencode(\u001b[38;5;28mself\u001b[39m\u001b[38;5;241m.\u001b[39mcore_fonts_encoding)\u001b[38;5;241m.\u001b[39mdecode(\u001b[38;5;124m\"\u001b[39m\u001b[38;5;124mlatin-1\u001b[39m\u001b[38;5;124m\"\u001b[39m)\n\u001b[0;32m   4874\u001b[0m     \u001b[38;5;28;01mexcept\u001b[39;00m \u001b[38;5;167;01mUnicodeEncodeError\u001b[39;00m \u001b[38;5;28;01mas\u001b[39;00m error:\n\u001b[1;32m-> 4875\u001b[0m         \u001b[38;5;28;01mraise\u001b[39;00m FPDFUnicodeEncodingException(\n\u001b[0;32m   4876\u001b[0m             text_index\u001b[38;5;241m=\u001b[39merror\u001b[38;5;241m.\u001b[39mstart,\n\u001b[0;32m   4877\u001b[0m             character\u001b[38;5;241m=\u001b[39mtext[error\u001b[38;5;241m.\u001b[39mstart],\n\u001b[0;32m   4878\u001b[0m             font_name\u001b[38;5;241m=\u001b[39m\u001b[38;5;28mself\u001b[39m\u001b[38;5;241m.\u001b[39mfont_family \u001b[38;5;241m+\u001b[39m \u001b[38;5;28mself\u001b[39m\u001b[38;5;241m.\u001b[39mfont_style,\n\u001b[0;32m   4879\u001b[0m         ) \u001b[38;5;28;01mfrom\u001b[39;00m \u001b[38;5;21;01merror\u001b[39;00m\n\u001b[0;32m   4880\u001b[0m \u001b[38;5;28;01mreturn\u001b[39;00m text\n",
      "\u001b[1;31mFPDFUnicodeEncodingException\u001b[0m: Character \"👍\" at index 9 in text is outside the range of characters supported by the font used: \"helvetica\". Please consider using a Unicode font."
     ]
    }
   ],
   "source": [
    "generate_pdf_report(\n",
    "    student_name=student_name,\n",
    "    get_student_class=get_student_class,\n",
    "    student_scores=student_scores,\n",
    "    grades=grades,\n",
    "    average=average,\n",
    "    comment=comment,\n",
    "    wrapped_text=wrapped_text,\n",
    "    student_folder=student_folder\n",
    ")\n"
   ]
  },
  {
   "cell_type": "code",
   "execution_count": 6,
   "id": "a8203740",
   "metadata": {},
   "outputs": [
    {
     "name": "stdout",
     "output_type": "stream",
     "text": [
      "2.8.3\n"
     ]
    }
   ],
   "source": [
    "print(fpdf.__version__)\n"
   ]
  },
  {
   "cell_type": "code",
   "execution_count": 28,
   "id": "bdaab56e",
   "metadata": {},
   "outputs": [],
   "source": [
    "from fpdf import FPDF\n",
    "from fpdf.enums import XPos, YPos\n",
    "import os\n",
    "\n",
    "def generate_pdf_report(student_name, get_student_class, student_scores, grades, average, comment, wrapped_text, student_folder):\n",
    "    pdf = FPDF()\n",
    "    pdf.add_page()\n",
    "    \n",
    "    # Use built-in Helvetica font (instead of deprecated Arial)\n",
    "    pdf.set_font(\"helvetica\", size=14)\n",
    "    pdf.cell(200, 10, f\"Result Report for {student_name}\", align=\"C\", \n",
    "             new_x=XPos.LMARGIN, new_y=YPos.NEXT)\n",
    "\n",
    "    pdf.set_font(\"helvetica\", size=12)\n",
    "    pdf.cell(200, 10, f\"Class: {get_student_class.upper()}\", align=\"C\", \n",
    "             new_x=XPos.LMARGIN, new_y=YPos.NEXT)\n",
    "\n",
    "    pdf.ln(10)\n",
    "\n",
    "    # Subject table headers\n",
    "    pdf.set_font(\"helvetica\", \"B\", 12)\n",
    "    pdf.cell(60, 10, \"Subject\", border=1)\n",
    "    pdf.cell(40, 10, \"Score\", border=1)\n",
    "    pdf.cell(40, 10, \"Grade\", border=1, new_x=XPos.LMARGIN, new_y=YPos.NEXT)\n",
    "\n",
    "    # Subject rows\n",
    "    pdf.set_font(\"helvetica\", \"\", 12)\n",
    "    for subject in student_scores:\n",
    "        pdf.cell(60, 10, subject, border=1)\n",
    "        pdf.cell(40, 10, f\"{student_scores[subject]:.2f}\", border=1)\n",
    "        pdf.cell(40, 10, grades[subject], border=1, new_x=XPos.LMARGIN, new_y=YPos.NEXT)\n",
    "\n",
    "    pdf.ln(5)\n",
    "\n",
    "    # Summary\n",
    "    pdf.set_font(\"helvetica\", size=12)\n",
    "    pdf.cell(0, 10, f\"Average Score: {average:.2f}\", new_x=XPos.LMARGIN, new_y=YPos.NEXT)\n",
    "    pdf.multi_cell(0, 10, f\"Comment: {comment}\")\n",
    "\n",
    "    pdf.ln(5)\n",
    "    pdf.multi_cell(0, 10, wrapped_text)\n",
    "\n",
    "    # Save PDF\n",
    "    pdf_path = os.path.join(student_folder, \"report.pdf\")\n",
    "    pdf.output(pdf_path)\n",
    "    print(f\"📝 PDF saved to: {pdf_path}\")\n"
   ]
  },
  {
   "cell_type": "code",
   "execution_count": 29,
   "id": "e5ae0c1a",
   "metadata": {},
   "outputs": [
    {
     "ename": "FPDFUnicodeEncodingException",
     "evalue": "Character \"👍\" at index 9 in text is outside the range of characters supported by the font used: \"helvetica\". Please consider using a Unicode font.",
     "output_type": "error",
     "traceback": [
      "\u001b[1;31m---------------------------------------------------------------------------\u001b[0m",
      "\u001b[1;31mUnicodeEncodeError\u001b[0m                        Traceback (most recent call last)",
      "File \u001b[1;32mc:\\Users\\ugwua\\anaconda3\\Lib\\site-packages\\fpdf\\fpdf.py:4873\u001b[0m, in \u001b[0;36mFPDF.normalize_text\u001b[1;34m(self, text)\u001b[0m\n\u001b[0;32m   4872\u001b[0m \u001b[38;5;28;01mtry\u001b[39;00m:\n\u001b[1;32m-> 4873\u001b[0m     \u001b[38;5;28;01mreturn\u001b[39;00m text\u001b[38;5;241m.\u001b[39mencode(\u001b[38;5;28mself\u001b[39m\u001b[38;5;241m.\u001b[39mcore_fonts_encoding)\u001b[38;5;241m.\u001b[39mdecode(\u001b[38;5;124m\"\u001b[39m\u001b[38;5;124mlatin-1\u001b[39m\u001b[38;5;124m\"\u001b[39m)\n\u001b[0;32m   4874\u001b[0m \u001b[38;5;28;01mexcept\u001b[39;00m \u001b[38;5;167;01mUnicodeEncodeError\u001b[39;00m \u001b[38;5;28;01mas\u001b[39;00m error:\n",
      "\u001b[1;31mUnicodeEncodeError\u001b[0m: 'latin-1' codec can't encode character '\\U0001f44d' in position 9: ordinal not in range(256)",
      "\nThe above exception was the direct cause of the following exception:\n",
      "\u001b[1;31mFPDFUnicodeEncodingException\u001b[0m              Traceback (most recent call last)",
      "Cell \u001b[1;32mIn[29], line 1\u001b[0m\n\u001b[1;32m----> 1\u001b[0m generate_pdf_report(\n\u001b[0;32m      2\u001b[0m     student_name\u001b[38;5;241m=\u001b[39mstudent_name,\n\u001b[0;32m      3\u001b[0m     get_student_class\u001b[38;5;241m=\u001b[39mget_student_class,\n\u001b[0;32m      4\u001b[0m     student_scores\u001b[38;5;241m=\u001b[39mstudent_scores,\n\u001b[0;32m      5\u001b[0m     grades\u001b[38;5;241m=\u001b[39mgrades,\n\u001b[0;32m      6\u001b[0m     average\u001b[38;5;241m=\u001b[39maverage,\n\u001b[0;32m      7\u001b[0m     comment\u001b[38;5;241m=\u001b[39mcomment,\n\u001b[0;32m      8\u001b[0m     wrapped_text\u001b[38;5;241m=\u001b[39mwrapped_text,\n\u001b[0;32m      9\u001b[0m     student_folder\u001b[38;5;241m=\u001b[39mstudent_folder\n\u001b[0;32m     10\u001b[0m )\n",
      "Cell \u001b[1;32mIn[28], line 38\u001b[0m, in \u001b[0;36mgenerate_pdf_report\u001b[1;34m(student_name, get_student_class, student_scores, grades, average, comment, wrapped_text, student_folder)\u001b[0m\n\u001b[0;32m     36\u001b[0m pdf\u001b[38;5;241m.\u001b[39mset_font(\u001b[38;5;124m\"\u001b[39m\u001b[38;5;124mhelvetica\u001b[39m\u001b[38;5;124m\"\u001b[39m, size\u001b[38;5;241m=\u001b[39m\u001b[38;5;241m12\u001b[39m)\n\u001b[0;32m     37\u001b[0m pdf\u001b[38;5;241m.\u001b[39mcell(\u001b[38;5;241m0\u001b[39m, \u001b[38;5;241m10\u001b[39m, \u001b[38;5;124mf\u001b[39m\u001b[38;5;124m\"\u001b[39m\u001b[38;5;124mAverage Score: \u001b[39m\u001b[38;5;132;01m{\u001b[39;00maverage\u001b[38;5;132;01m:\u001b[39;00m\u001b[38;5;124m.2f\u001b[39m\u001b[38;5;132;01m}\u001b[39;00m\u001b[38;5;124m\"\u001b[39m, new_x\u001b[38;5;241m=\u001b[39mXPos\u001b[38;5;241m.\u001b[39mLMARGIN, new_y\u001b[38;5;241m=\u001b[39mYPos\u001b[38;5;241m.\u001b[39mNEXT)\n\u001b[1;32m---> 38\u001b[0m pdf\u001b[38;5;241m.\u001b[39mmulti_cell(\u001b[38;5;241m0\u001b[39m, \u001b[38;5;241m10\u001b[39m, \u001b[38;5;124mf\u001b[39m\u001b[38;5;124m\"\u001b[39m\u001b[38;5;124mComment: \u001b[39m\u001b[38;5;132;01m{\u001b[39;00mcomment\u001b[38;5;132;01m}\u001b[39;00m\u001b[38;5;124m\"\u001b[39m)\n\u001b[0;32m     40\u001b[0m pdf\u001b[38;5;241m.\u001b[39mln(\u001b[38;5;241m5\u001b[39m)\n\u001b[0;32m     41\u001b[0m pdf\u001b[38;5;241m.\u001b[39mmulti_cell(\u001b[38;5;241m0\u001b[39m, \u001b[38;5;241m10\u001b[39m, wrapped_text)\n",
      "File \u001b[1;32mc:\\Users\\ugwua\\anaconda3\\Lib\\site-packages\\fpdf\\fpdf.py:221\u001b[0m, in \u001b[0;36mcheck_page.<locals>.wrapper\u001b[1;34m(self, *args, **kwargs)\u001b[0m\n\u001b[0;32m    219\u001b[0m \u001b[38;5;28;01mif\u001b[39;00m \u001b[38;5;129;01mnot\u001b[39;00m \u001b[38;5;28mself\u001b[39m\u001b[38;5;241m.\u001b[39mpage \u001b[38;5;129;01mand\u001b[39;00m \u001b[38;5;129;01mnot\u001b[39;00m (kwargs\u001b[38;5;241m.\u001b[39mget(\u001b[38;5;124m\"\u001b[39m\u001b[38;5;124mdry_run\u001b[39m\u001b[38;5;124m\"\u001b[39m) \u001b[38;5;129;01mor\u001b[39;00m kwargs\u001b[38;5;241m.\u001b[39mget(\u001b[38;5;124m\"\u001b[39m\u001b[38;5;124msplit_only\u001b[39m\u001b[38;5;124m\"\u001b[39m)):\n\u001b[0;32m    220\u001b[0m     \u001b[38;5;28;01mraise\u001b[39;00m FPDFException(\u001b[38;5;124m\"\u001b[39m\u001b[38;5;124mNo page open, you need to call add_page() first\u001b[39m\u001b[38;5;124m\"\u001b[39m)\n\u001b[1;32m--> 221\u001b[0m \u001b[38;5;28;01mreturn\u001b[39;00m fn(\u001b[38;5;28mself\u001b[39m, \u001b[38;5;241m*\u001b[39margs, \u001b[38;5;241m*\u001b[39m\u001b[38;5;241m*\u001b[39mkwargs)\n",
      "File \u001b[1;32mc:\\Users\\ugwua\\anaconda3\\Lib\\site-packages\\fpdf\\deprecation.py:32\u001b[0m, in \u001b[0;36msupport_deprecated_txt_arg.<locals>.wrapper\u001b[1;34m(self, *args, **kwargs)\u001b[0m\n\u001b[0;32m     26\u001b[0m     kwargs[\u001b[38;5;124m\"\u001b[39m\u001b[38;5;124mtext\u001b[39m\u001b[38;5;124m\"\u001b[39m] \u001b[38;5;241m=\u001b[39m txt_value\n\u001b[0;32m     27\u001b[0m     warnings\u001b[38;5;241m.\u001b[39mwarn(\n\u001b[0;32m     28\u001b[0m         \u001b[38;5;124m'\u001b[39m\u001b[38;5;124mThe parameter \u001b[39m\u001b[38;5;124m\"\u001b[39m\u001b[38;5;124mtxt\u001b[39m\u001b[38;5;124m\"\u001b[39m\u001b[38;5;124m has been renamed to \u001b[39m\u001b[38;5;124m\"\u001b[39m\u001b[38;5;124mtext\u001b[39m\u001b[38;5;124m\"\u001b[39m\u001b[38;5;124m in 2.7.6\u001b[39m\u001b[38;5;124m'\u001b[39m,\n\u001b[0;32m     29\u001b[0m         \u001b[38;5;167;01mDeprecationWarning\u001b[39;00m,\n\u001b[0;32m     30\u001b[0m         stacklevel\u001b[38;5;241m=\u001b[39mget_stack_level(),\n\u001b[0;32m     31\u001b[0m     )\n\u001b[1;32m---> 32\u001b[0m \u001b[38;5;28;01mreturn\u001b[39;00m fn(\u001b[38;5;28mself\u001b[39m, \u001b[38;5;241m*\u001b[39margs, \u001b[38;5;241m*\u001b[39m\u001b[38;5;241m*\u001b[39mkwargs)\n",
      "File \u001b[1;32mc:\\Users\\ugwua\\anaconda3\\Lib\\site-packages\\fpdf\\fpdf.py:4147\u001b[0m, in \u001b[0;36mFPDF.multi_cell\u001b[1;34m(self, w, h, text, border, align, fill, split_only, link, ln, max_line_height, markdown, print_sh, new_x, new_y, wrapmode, dry_run, output, center, padding)\u001b[0m\n\u001b[0;32m   4144\u001b[0m     prev_x \u001b[38;5;241m=\u001b[39m \u001b[38;5;28mself\u001b[39m\u001b[38;5;241m.\u001b[39mx\n\u001b[0;32m   4146\u001b[0m \u001b[38;5;66;03m# Calculate text length\u001b[39;00m\n\u001b[1;32m-> 4147\u001b[0m text \u001b[38;5;241m=\u001b[39m \u001b[38;5;28mself\u001b[39m\u001b[38;5;241m.\u001b[39mnormalize_text(text)\n\u001b[0;32m   4148\u001b[0m normalized_string \u001b[38;5;241m=\u001b[39m text\u001b[38;5;241m.\u001b[39mreplace(\u001b[38;5;124m\"\u001b[39m\u001b[38;5;130;01m\\r\u001b[39;00m\u001b[38;5;124m\"\u001b[39m, \u001b[38;5;124m\"\u001b[39m\u001b[38;5;124m\"\u001b[39m)\n\u001b[0;32m   4149\u001b[0m styled_text_fragments \u001b[38;5;241m=\u001b[39m (\n\u001b[0;32m   4150\u001b[0m     \u001b[38;5;28mself\u001b[39m\u001b[38;5;241m.\u001b[39m_preload_bidirectional_text(normalized_string, markdown)\n\u001b[0;32m   4151\u001b[0m     \u001b[38;5;28;01mif\u001b[39;00m \u001b[38;5;28mself\u001b[39m\u001b[38;5;241m.\u001b[39mtext_shaping\n\u001b[0;32m   4152\u001b[0m     \u001b[38;5;28;01melse\u001b[39;00m \u001b[38;5;28mself\u001b[39m\u001b[38;5;241m.\u001b[39m_preload_font_styles(normalized_string, markdown)\n\u001b[0;32m   4153\u001b[0m )\n",
      "File \u001b[1;32mc:\\Users\\ugwua\\anaconda3\\Lib\\site-packages\\fpdf\\fpdf.py:4875\u001b[0m, in \u001b[0;36mFPDF.normalize_text\u001b[1;34m(self, text)\u001b[0m\n\u001b[0;32m   4873\u001b[0m         \u001b[38;5;28;01mreturn\u001b[39;00m text\u001b[38;5;241m.\u001b[39mencode(\u001b[38;5;28mself\u001b[39m\u001b[38;5;241m.\u001b[39mcore_fonts_encoding)\u001b[38;5;241m.\u001b[39mdecode(\u001b[38;5;124m\"\u001b[39m\u001b[38;5;124mlatin-1\u001b[39m\u001b[38;5;124m\"\u001b[39m)\n\u001b[0;32m   4874\u001b[0m     \u001b[38;5;28;01mexcept\u001b[39;00m \u001b[38;5;167;01mUnicodeEncodeError\u001b[39;00m \u001b[38;5;28;01mas\u001b[39;00m error:\n\u001b[1;32m-> 4875\u001b[0m         \u001b[38;5;28;01mraise\u001b[39;00m FPDFUnicodeEncodingException(\n\u001b[0;32m   4876\u001b[0m             text_index\u001b[38;5;241m=\u001b[39merror\u001b[38;5;241m.\u001b[39mstart,\n\u001b[0;32m   4877\u001b[0m             character\u001b[38;5;241m=\u001b[39mtext[error\u001b[38;5;241m.\u001b[39mstart],\n\u001b[0;32m   4878\u001b[0m             font_name\u001b[38;5;241m=\u001b[39m\u001b[38;5;28mself\u001b[39m\u001b[38;5;241m.\u001b[39mfont_family \u001b[38;5;241m+\u001b[39m \u001b[38;5;28mself\u001b[39m\u001b[38;5;241m.\u001b[39mfont_style,\n\u001b[0;32m   4879\u001b[0m         ) \u001b[38;5;28;01mfrom\u001b[39;00m \u001b[38;5;21;01merror\u001b[39;00m\n\u001b[0;32m   4880\u001b[0m \u001b[38;5;28;01mreturn\u001b[39;00m text\n",
      "\u001b[1;31mFPDFUnicodeEncodingException\u001b[0m: Character \"👍\" at index 9 in text is outside the range of characters supported by the font used: \"helvetica\". Please consider using a Unicode font."
     ]
    }
   ],
   "source": [
    "generate_pdf_report(\n",
    "    student_name=student_name,\n",
    "    get_student_class=get_student_class,\n",
    "    student_scores=student_scores,\n",
    "    grades=grades,\n",
    "    average=average,\n",
    "    comment=comment,\n",
    "    wrapped_text=wrapped_text,\n",
    "    student_folder=student_folder\n",
    ")"
   ]
  },
  {
   "cell_type": "code",
   "execution_count": 33,
   "id": "a66662e4",
   "metadata": {},
   "outputs": [],
   "source": [
    "from fpdf import FPDF\n",
    "from fpdf.enums import XPos, YPos\n",
    "import os\n",
    "\n",
    "def generate_pdf_report(student_name, get_student_class, student_scores, grades, average, comment, wrapped_text, student_folder):\n",
    "    pdf = FPDF()\n",
    "    pdf.add_page()\n",
    "\n",
    "    # ✅ Load and set Unicode font\n",
    "    font_path = \"DejaVuSans.ttf\"  # Adjust this if your path differs\n",
    "    pdf.add_font(\"DejaVu\", \"\", font_path, uni=True)\n",
    "    pdf.set_font(\"DejaVu\", size=14)\n",
    "\n",
    "    pdf.cell(200, 10, f\"Result Report for {student_name}\", align=\"C\",\n",
    "             new_x=XPos.LMARGIN, new_y=YPos.NEXT)\n",
    "\n",
    "    pdf.set_font(\"DejaVu\", size=12)\n",
    "    pdf.cell(200, 10, f\"Class: {get_student_class.upper()}\", align=\"C\",\n",
    "             new_x=XPos.LMARGIN, new_y=YPos.NEXT)\n",
    "\n",
    "    pdf.ln(10)\n",
    "\n",
    "    # Headers\n",
    "    pdf.set_font(\"DejaVu\", \"B\", 12)\n",
    "    pdf.cell(60, 10, \"Subject\", border=1)\n",
    "    pdf.cell(40, 10, \"Score\", border=1)\n",
    "    pdf.cell(40, 10, \"Grade\", border=1, new_x=XPos.LMARGIN, new_y=YPos.NEXT)\n",
    "\n",
    "    # Data rows\n",
    "    pdf.set_font(\"DejaVu\", \"\", 12)\n",
    "    for subject in student_scores:\n",
    "        pdf.cell(60, 10, subject, border=1)\n",
    "        pdf.cell(40, 10, f\"{student_scores[subject]:.2f}\", border=1)\n",
    "        pdf.cell(40, 10, grades[subject], border=1, new_x=XPos.LMARGIN, new_y=YPos.NEXT)\n",
    "\n",
    "    pdf.ln(5)\n",
    "    pdf.multi_cell(0, 10, f\"Average Score: {average:.2f}\")\n",
    "    pdf.multi_cell(0, 10, f\"Comment: {comment}\")\n",
    "    pdf.ln(5)\n",
    "    pdf.multi_cell(0, 10, wrapped_text)\n",
    "\n",
    "    # Save PDF\n",
    "    pdf_path = os.path.join(student_folder, \"report.pdf\")\n",
    "    pdf.output(pdf_path)\n",
    "    print(f\"📝 PDF saved to: {pdf_path}\")\n"
   ]
  },
  {
   "cell_type": "code",
   "execution_count": 35,
   "id": "1589b351",
   "metadata": {},
   "outputs": [
    {
     "name": "stdout",
     "output_type": "stream",
     "text": [
      "True\n"
     ]
    }
   ],
   "source": [
    "print(os.path.exists(\"fonts/DejaVuSans.ttf\"))"
   ]
  },
  {
   "cell_type": "code",
   "execution_count": 34,
   "id": "8c5cd126",
   "metadata": {},
   "outputs": [
    {
     "name": "stderr",
     "output_type": "stream",
     "text": [
      "C:\\Users\\ugwua\\AppData\\Local\\Temp\\ipykernel_45768\\1730939996.py:11: DeprecationWarning: \"uni\" parameter is deprecated since v2.5.1, unused and will soon be removed\n",
      "  pdf.add_font(\"DejaVu\", \"\", font_path, uni=True)\n"
     ]
    },
    {
     "ename": "FileNotFoundError",
     "evalue": "TTF Font file not found: DejaVuSans.ttf",
     "output_type": "error",
     "traceback": [
      "\u001b[1;31m---------------------------------------------------------------------------\u001b[0m",
      "\u001b[1;31mFileNotFoundError\u001b[0m                         Traceback (most recent call last)",
      "Cell \u001b[1;32mIn[34], line 1\u001b[0m\n\u001b[1;32m----> 1\u001b[0m generate_pdf_report(\n\u001b[0;32m      2\u001b[0m     student_name\u001b[38;5;241m=\u001b[39mstudent_name,\n\u001b[0;32m      3\u001b[0m     get_student_class\u001b[38;5;241m=\u001b[39mget_student_class,\n\u001b[0;32m      4\u001b[0m     student_scores\u001b[38;5;241m=\u001b[39mstudent_scores,\n\u001b[0;32m      5\u001b[0m     grades\u001b[38;5;241m=\u001b[39mgrades,\n\u001b[0;32m      6\u001b[0m     average\u001b[38;5;241m=\u001b[39maverage,\n\u001b[0;32m      7\u001b[0m     comment\u001b[38;5;241m=\u001b[39mcomment,\n\u001b[0;32m      8\u001b[0m     wrapped_text\u001b[38;5;241m=\u001b[39mwrapped_text,\n\u001b[0;32m      9\u001b[0m     student_folder\u001b[38;5;241m=\u001b[39mstudent_folder\n\u001b[0;32m     10\u001b[0m )\n",
      "Cell \u001b[1;32mIn[33], line 11\u001b[0m, in \u001b[0;36mgenerate_pdf_report\u001b[1;34m(student_name, get_student_class, student_scores, grades, average, comment, wrapped_text, student_folder)\u001b[0m\n\u001b[0;32m      9\u001b[0m \u001b[38;5;66;03m# ✅ Load and set Unicode font\u001b[39;00m\n\u001b[0;32m     10\u001b[0m font_path \u001b[38;5;241m=\u001b[39m \u001b[38;5;124m\"\u001b[39m\u001b[38;5;124mDejaVuSans.ttf\u001b[39m\u001b[38;5;124m\"\u001b[39m  \u001b[38;5;66;03m# Adjust this if your path differs\u001b[39;00m\n\u001b[1;32m---> 11\u001b[0m pdf\u001b[38;5;241m.\u001b[39madd_font(\u001b[38;5;124m\"\u001b[39m\u001b[38;5;124mDejaVu\u001b[39m\u001b[38;5;124m\"\u001b[39m, \u001b[38;5;124m\"\u001b[39m\u001b[38;5;124m\"\u001b[39m, font_path, uni\u001b[38;5;241m=\u001b[39m\u001b[38;5;28;01mTrue\u001b[39;00m)\n\u001b[0;32m     12\u001b[0m pdf\u001b[38;5;241m.\u001b[39mset_font(\u001b[38;5;124m\"\u001b[39m\u001b[38;5;124mDejaVu\u001b[39m\u001b[38;5;124m\"\u001b[39m, size\u001b[38;5;241m=\u001b[39m\u001b[38;5;241m14\u001b[39m)\n\u001b[0;32m     14\u001b[0m pdf\u001b[38;5;241m.\u001b[39mcell(\u001b[38;5;241m200\u001b[39m, \u001b[38;5;241m10\u001b[39m, \u001b[38;5;124mf\u001b[39m\u001b[38;5;124m\"\u001b[39m\u001b[38;5;124mResult Report for \u001b[39m\u001b[38;5;132;01m{\u001b[39;00mstudent_name\u001b[38;5;132;01m}\u001b[39;00m\u001b[38;5;124m\"\u001b[39m, align\u001b[38;5;241m=\u001b[39m\u001b[38;5;124m\"\u001b[39m\u001b[38;5;124mC\u001b[39m\u001b[38;5;124m\"\u001b[39m,\n\u001b[0;32m     15\u001b[0m          new_x\u001b[38;5;241m=\u001b[39mXPos\u001b[38;5;241m.\u001b[39mLMARGIN, new_y\u001b[38;5;241m=\u001b[39mYPos\u001b[38;5;241m.\u001b[39mNEXT)\n",
      "File \u001b[1;32mc:\\Users\\ugwua\\anaconda3\\Lib\\site-packages\\fpdf\\fpdf.py:2134\u001b[0m, in \u001b[0;36mFPDF.add_font\u001b[1;34m(self, family, style, fname, uni)\u001b[0m\n\u001b[0;32m   2132\u001b[0m         \u001b[38;5;28;01mbreak\u001b[39;00m\n\u001b[0;32m   2133\u001b[0m \u001b[38;5;28;01melse\u001b[39;00m:\n\u001b[1;32m-> 2134\u001b[0m     \u001b[38;5;28;01mraise\u001b[39;00m \u001b[38;5;167;01mFileNotFoundError\u001b[39;00m(\u001b[38;5;124mf\u001b[39m\u001b[38;5;124m\"\u001b[39m\u001b[38;5;124mTTF Font file not found: \u001b[39m\u001b[38;5;132;01m{\u001b[39;00mfname\u001b[38;5;132;01m}\u001b[39;00m\u001b[38;5;124m\"\u001b[39m)\n\u001b[0;32m   2136\u001b[0m \u001b[38;5;28;01mif\u001b[39;00m family \u001b[38;5;129;01mis\u001b[39;00m \u001b[38;5;28;01mNone\u001b[39;00m:\n\u001b[0;32m   2137\u001b[0m     family \u001b[38;5;241m=\u001b[39m font_file_path\u001b[38;5;241m.\u001b[39mstem\n",
      "\u001b[1;31mFileNotFoundError\u001b[0m: TTF Font file not found: DejaVuSans.ttf"
     ]
    }
   ],
   "source": [
    "generate_pdf_report(\n",
    "    student_name=student_name,\n",
    "    get_student_class=get_student_class,\n",
    "    student_scores=student_scores,\n",
    "    grades=grades,\n",
    "    average=average,\n",
    "    comment=comment,\n",
    "    wrapped_text=wrapped_text,\n",
    "    student_folder=student_folder\n",
    ")"
   ]
  },
  {
   "cell_type": "code",
   "execution_count": 32,
   "id": "49c6b7e2",
   "metadata": {},
   "outputs": [
    {
     "name": "stdout",
     "output_type": "stream",
     "text": [
      "c:\\Users\\ugwua\\OneDrive\\Desktop\\Data Science\\PP\n"
     ]
    }
   ],
   "source": [
    "print(os.getcwd())"
   ]
  },
  {
   "cell_type": "code",
   "execution_count": 71,
   "id": "85a13bf4",
   "metadata": {},
   "outputs": [],
   "source": [
    "from fpdf import FPDF\n",
    "from fpdf.enums import XPos, YPos\n",
    "from textwrap import fill  \n",
    "import os\n",
    "\n",
    "def generate_pdf_report(student_name, get_student_class, student_scores, grades, average, comment, wrapped_text, student_folder):\n",
    "    pdf = FPDF()\n",
    "    pdf.add_page()\n",
    "\n",
    "    # ✅ Load and set Unicode font\n",
    "    font_path = \"Symbola.ttf\"  # Adjust this if your path differs\n",
    "    pdf.add_font(\"Symbola\", \"\", \"Symbola.ttf\")\n",
    "    pdf.set_font(\"Symbola\", size=14)\n",
    "\n",
    "    pdf.cell(200, 10, f\"Result Report for {student_name}\", align=\"C\",\n",
    "             new_x=XPos.LMARGIN, new_y=YPos.NEXT)\n",
    "\n",
    "    pdf.set_font(\"Symbola\", size=12)\n",
    "    pdf.cell(200, 10, f\"Class: {get_student_class.upper()}\", align=\"C\",\n",
    "             new_x=XPos.LMARGIN, new_y=YPos.NEXT)\n",
    "\n",
    "    pdf.ln(10)\n",
    "\n",
    "    # Headers\n",
    "    pdf.set_font(\"Symbola\", \"\", 12)\n",
    "    pdf.cell(60, 10, \"Subject\", border=1)\n",
    "    pdf.cell(40, 10, \"Score\", border=1)\n",
    "    pdf.cell(40, 10, \"Grade\", border=1, new_x=XPos.LMARGIN, new_y=YPos.NEXT)\n",
    "\n",
    "    # Data rows\n",
    "    pdf.set_font(\"Symbola\", \"\", 12)\n",
    "    for subject in student_scores:\n",
    "        pdf.cell(60, 10, subject, border=1)\n",
    "        pdf.cell(40, 10, f\"{student_scores[subject]:.2f}\", border=1)\n",
    "        pdf.cell(40, 10, grades[subject], border=1, new_x=XPos.LMARGIN, new_y=YPos.NEXT)\n",
    "\n",
    "    pdf.ln(5)\n",
    "    pdf.multi_cell(0, 10, f\"Average Score: {average:.2f}\")\n",
    "    wrapped_comment = fill(f\"Comment: {comment}\", width=100)\n",
    "    pdf.multi_cell(\n",
    "        0,\n",
    "        10,\n",
    "        wrapped_comment,\n",
    "        max_line_height=pdf.font_size,\n",
    "        new_x=XPos.LMARGIN,\n",
    "        new_y=YPos.NEXT\n",
    "    )\n",
    "    pdf.ln(5)\n",
    "    pdf.multi_cell(0, 10, wrapped_text)\n",
    "\n",
    "    # Save PDF\n",
    "    pdf_path = os.path.join(student_folder, \"report.pdf\")\n",
    "    pdf.output(pdf_path)\n",
    "    print(f\"📝 PDF saved to: {pdf_path}\")\n"
   ]
  },
  {
   "cell_type": "code",
   "execution_count": 72,
   "id": "e87a2f85",
   "metadata": {},
   "outputs": [
    {
     "ename": "FPDFException",
     "evalue": "Not enough horizontal space to render a single character",
     "output_type": "error",
     "traceback": [
      "\u001b[1;31m---------------------------------------------------------------------------\u001b[0m",
      "\u001b[1;31mFPDFException\u001b[0m                             Traceback (most recent call last)",
      "Cell \u001b[1;32mIn[72], line 1\u001b[0m\n\u001b[1;32m----> 1\u001b[0m generate_pdf_report(\n\u001b[0;32m      2\u001b[0m     student_name\u001b[38;5;241m=\u001b[39mstudent_name,\n\u001b[0;32m      3\u001b[0m     get_student_class\u001b[38;5;241m=\u001b[39mget_student_class,\n\u001b[0;32m      4\u001b[0m     student_scores\u001b[38;5;241m=\u001b[39mstudent_scores,\n\u001b[0;32m      5\u001b[0m     grades\u001b[38;5;241m=\u001b[39mgrades,\n\u001b[0;32m      6\u001b[0m     average\u001b[38;5;241m=\u001b[39maverage,\n\u001b[0;32m      7\u001b[0m     comment\u001b[38;5;241m=\u001b[39mcomment,\n\u001b[0;32m      8\u001b[0m     wrapped_text\u001b[38;5;241m=\u001b[39mwrapped_text,\n\u001b[0;32m      9\u001b[0m     student_folder\u001b[38;5;241m=\u001b[39mstudent_folder\n\u001b[0;32m     10\u001b[0m )\n",
      "Cell \u001b[1;32mIn[71], line 40\u001b[0m, in \u001b[0;36mgenerate_pdf_report\u001b[1;34m(student_name, get_student_class, student_scores, grades, average, comment, wrapped_text, student_folder)\u001b[0m\n\u001b[0;32m     38\u001b[0m pdf\u001b[38;5;241m.\u001b[39mmulti_cell(\u001b[38;5;241m0\u001b[39m, \u001b[38;5;241m10\u001b[39m, \u001b[38;5;124mf\u001b[39m\u001b[38;5;124m\"\u001b[39m\u001b[38;5;124mAverage Score: \u001b[39m\u001b[38;5;132;01m{\u001b[39;00maverage\u001b[38;5;132;01m:\u001b[39;00m\u001b[38;5;124m.2f\u001b[39m\u001b[38;5;132;01m}\u001b[39;00m\u001b[38;5;124m\"\u001b[39m)\n\u001b[0;32m     39\u001b[0m wrapped_comment \u001b[38;5;241m=\u001b[39m fill(\u001b[38;5;124mf\u001b[39m\u001b[38;5;124m\"\u001b[39m\u001b[38;5;124mComment: \u001b[39m\u001b[38;5;132;01m{\u001b[39;00mcomment\u001b[38;5;132;01m}\u001b[39;00m\u001b[38;5;124m\"\u001b[39m, width\u001b[38;5;241m=\u001b[39m\u001b[38;5;241m100\u001b[39m)\n\u001b[1;32m---> 40\u001b[0m pdf\u001b[38;5;241m.\u001b[39mmulti_cell(\n\u001b[0;32m     41\u001b[0m     \u001b[38;5;241m0\u001b[39m,\n\u001b[0;32m     42\u001b[0m     \u001b[38;5;241m10\u001b[39m,\n\u001b[0;32m     43\u001b[0m     wrapped_comment,\n\u001b[0;32m     44\u001b[0m     max_line_height\u001b[38;5;241m=\u001b[39mpdf\u001b[38;5;241m.\u001b[39mfont_size,\n\u001b[0;32m     45\u001b[0m     new_x\u001b[38;5;241m=\u001b[39mXPos\u001b[38;5;241m.\u001b[39mLMARGIN,\n\u001b[0;32m     46\u001b[0m     new_y\u001b[38;5;241m=\u001b[39mYPos\u001b[38;5;241m.\u001b[39mNEXT\n\u001b[0;32m     47\u001b[0m )\n\u001b[0;32m     48\u001b[0m pdf\u001b[38;5;241m.\u001b[39mln(\u001b[38;5;241m5\u001b[39m)\n\u001b[0;32m     49\u001b[0m pdf\u001b[38;5;241m.\u001b[39mmulti_cell(\u001b[38;5;241m0\u001b[39m, \u001b[38;5;241m10\u001b[39m, wrapped_text)\n",
      "File \u001b[1;32mc:\\Users\\ugwua\\anaconda3\\Lib\\site-packages\\fpdf\\fpdf.py:221\u001b[0m, in \u001b[0;36mcheck_page.<locals>.wrapper\u001b[1;34m(self, *args, **kwargs)\u001b[0m\n\u001b[0;32m    219\u001b[0m \u001b[38;5;28;01mif\u001b[39;00m \u001b[38;5;129;01mnot\u001b[39;00m \u001b[38;5;28mself\u001b[39m\u001b[38;5;241m.\u001b[39mpage \u001b[38;5;129;01mand\u001b[39;00m \u001b[38;5;129;01mnot\u001b[39;00m (kwargs\u001b[38;5;241m.\u001b[39mget(\u001b[38;5;124m\"\u001b[39m\u001b[38;5;124mdry_run\u001b[39m\u001b[38;5;124m\"\u001b[39m) \u001b[38;5;129;01mor\u001b[39;00m kwargs\u001b[38;5;241m.\u001b[39mget(\u001b[38;5;124m\"\u001b[39m\u001b[38;5;124msplit_only\u001b[39m\u001b[38;5;124m\"\u001b[39m)):\n\u001b[0;32m    220\u001b[0m     \u001b[38;5;28;01mraise\u001b[39;00m FPDFException(\u001b[38;5;124m\"\u001b[39m\u001b[38;5;124mNo page open, you need to call add_page() first\u001b[39m\u001b[38;5;124m\"\u001b[39m)\n\u001b[1;32m--> 221\u001b[0m \u001b[38;5;28;01mreturn\u001b[39;00m fn(\u001b[38;5;28mself\u001b[39m, \u001b[38;5;241m*\u001b[39margs, \u001b[38;5;241m*\u001b[39m\u001b[38;5;241m*\u001b[39mkwargs)\n",
      "File \u001b[1;32mc:\\Users\\ugwua\\anaconda3\\Lib\\site-packages\\fpdf\\deprecation.py:32\u001b[0m, in \u001b[0;36msupport_deprecated_txt_arg.<locals>.wrapper\u001b[1;34m(self, *args, **kwargs)\u001b[0m\n\u001b[0;32m     26\u001b[0m     kwargs[\u001b[38;5;124m\"\u001b[39m\u001b[38;5;124mtext\u001b[39m\u001b[38;5;124m\"\u001b[39m] \u001b[38;5;241m=\u001b[39m txt_value\n\u001b[0;32m     27\u001b[0m     warnings\u001b[38;5;241m.\u001b[39mwarn(\n\u001b[0;32m     28\u001b[0m         \u001b[38;5;124m'\u001b[39m\u001b[38;5;124mThe parameter \u001b[39m\u001b[38;5;124m\"\u001b[39m\u001b[38;5;124mtxt\u001b[39m\u001b[38;5;124m\"\u001b[39m\u001b[38;5;124m has been renamed to \u001b[39m\u001b[38;5;124m\"\u001b[39m\u001b[38;5;124mtext\u001b[39m\u001b[38;5;124m\"\u001b[39m\u001b[38;5;124m in 2.7.6\u001b[39m\u001b[38;5;124m'\u001b[39m,\n\u001b[0;32m     29\u001b[0m         \u001b[38;5;167;01mDeprecationWarning\u001b[39;00m,\n\u001b[0;32m     30\u001b[0m         stacklevel\u001b[38;5;241m=\u001b[39mget_stack_level(),\n\u001b[0;32m     31\u001b[0m     )\n\u001b[1;32m---> 32\u001b[0m \u001b[38;5;28;01mreturn\u001b[39;00m fn(\u001b[38;5;28mself\u001b[39m, \u001b[38;5;241m*\u001b[39margs, \u001b[38;5;241m*\u001b[39m\u001b[38;5;241m*\u001b[39mkwargs)\n",
      "File \u001b[1;32mc:\\Users\\ugwua\\anaconda3\\Lib\\site-packages\\fpdf\\fpdf.py:4172\u001b[0m, in \u001b[0;36mFPDF.multi_cell\u001b[1;34m(self, w, h, text, border, align, fill, split_only, link, ln, max_line_height, markdown, print_sh, new_x, new_y, wrapmode, dry_run, output, center, padding)\u001b[0m\n\u001b[0;32m   4170\u001b[0m \u001b[38;5;28;01mwhile\u001b[39;00m (text_line) \u001b[38;5;129;01mis\u001b[39;00m \u001b[38;5;129;01mnot\u001b[39;00m \u001b[38;5;28;01mNone\u001b[39;00m:\n\u001b[0;32m   4171\u001b[0m     text_lines\u001b[38;5;241m.\u001b[39mappend(text_line)\n\u001b[1;32m-> 4172\u001b[0m     text_line \u001b[38;5;241m=\u001b[39m multi_line_break\u001b[38;5;241m.\u001b[39mget_line()\n\u001b[0;32m   4174\u001b[0m \u001b[38;5;28;01mif\u001b[39;00m \u001b[38;5;129;01mnot\u001b[39;00m text_lines:  \u001b[38;5;66;03m# ensure we display at least one cell - cf. issue #349\u001b[39;00m\n\u001b[0;32m   4175\u001b[0m     text_lines \u001b[38;5;241m=\u001b[39m [\n\u001b[0;32m   4176\u001b[0m         TextLine(\n\u001b[0;32m   4177\u001b[0m             \u001b[38;5;124m\"\u001b[39m\u001b[38;5;124m\"\u001b[39m,\n\u001b[1;32m   (...)\u001b[0m\n\u001b[0;32m   4184\u001b[0m         )\n\u001b[0;32m   4185\u001b[0m     ]\n",
      "File \u001b[1;32mc:\\Users\\ugwua\\anaconda3\\Lib\\site-packages\\fpdf\\line_break.py:792\u001b[0m, in \u001b[0;36mMultiLineBreak.get_line\u001b[1;34m(self)\u001b[0m\n\u001b[0;32m    790\u001b[0m     \u001b[38;5;28;01mreturn\u001b[39;00m line\n\u001b[0;32m    791\u001b[0m \u001b[38;5;28;01mif\u001b[39;00m idx_last_forced_break \u001b[38;5;241m==\u001b[39m \u001b[38;5;28mself\u001b[39m\u001b[38;5;241m.\u001b[39mcharacter_index:\n\u001b[1;32m--> 792\u001b[0m     \u001b[38;5;28;01mraise\u001b[39;00m FPDFException(\n\u001b[0;32m    793\u001b[0m         \u001b[38;5;124m\"\u001b[39m\u001b[38;5;124mNot enough horizontal space to render a single character\u001b[39m\u001b[38;5;124m\"\u001b[39m\n\u001b[0;32m    794\u001b[0m     )\n\u001b[0;32m    795\u001b[0m \u001b[38;5;28mself\u001b[39m\u001b[38;5;241m.\u001b[39midx_last_forced_break \u001b[38;5;241m=\u001b[39m \u001b[38;5;28mself\u001b[39m\u001b[38;5;241m.\u001b[39mcharacter_index\n\u001b[0;32m    796\u001b[0m \u001b[38;5;28;01mreturn\u001b[39;00m current_line\u001b[38;5;241m.\u001b[39mmanual_break(\n\u001b[0;32m    797\u001b[0m     Align\u001b[38;5;241m.\u001b[39mL \u001b[38;5;28;01mif\u001b[39;00m \u001b[38;5;28mself\u001b[39m\u001b[38;5;241m.\u001b[39malign \u001b[38;5;241m==\u001b[39m Align\u001b[38;5;241m.\u001b[39mJ \u001b[38;5;28;01melse\u001b[39;00m \u001b[38;5;28mself\u001b[39m\u001b[38;5;241m.\u001b[39malign,\n\u001b[0;32m    798\u001b[0m )\n",
      "\u001b[1;31mFPDFException\u001b[0m: Not enough horizontal space to render a single character"
     ]
    }
   ],
   "source": [
    "generate_pdf_report(\n",
    "    student_name=student_name,\n",
    "    get_student_class=get_student_class,\n",
    "    student_scores=student_scores,\n",
    "    grades=grades,\n",
    "    average=average,\n",
    "    comment=comment,\n",
    "    wrapped_text=wrapped_text,\n",
    "    student_folder=student_folder\n",
    ")"
   ]
  },
  {
   "cell_type": "code",
   "execution_count": 58,
   "id": "5aad5aa5",
   "metadata": {},
   "outputs": [
    {
     "name": "stdout",
     "output_type": "stream",
     "text": [
      "Current Working Directory: c:\\Users\\ugwua\\OneDrive\\Desktop\\Data Science\\PP\n",
      "Font Exists: False\n"
     ]
    }
   ],
   "source": [
    "# Test the relative path\n",
    "font_path = \"fonts/Symbola.ttf\"\n",
    "print(\"Current Working Directory:\", os.getcwd())\n",
    "print(\"Font Exists:\", os.path.exists(font_path))"
   ]
  },
  {
   "cell_type": "code",
   "execution_count": 59,
   "id": "bf6830e8",
   "metadata": {},
   "outputs": [
    {
     "name": "stdout",
     "output_type": "stream",
     "text": [
      "Current Working Directory: c:\\Users\\ugwua\\OneDrive\\Desktop\\Data Science\\PP\n",
      "Font Exists: True\n",
      "Font Path: c:\\Users\\ugwua\\OneDrive\\Desktop\\Data Science\\PP\\Symbola.ttf\n"
     ]
    }
   ],
   "source": [
    "font_path = os.path.join(os.getcwd(), \"Symbola.ttf\")\n",
    "print(\"Current Working Directory:\", os.getcwd())\n",
    "print(\"Font Exists:\", os.path.isfile(font_path))\n",
    "print(\"Font Path:\", font_path)"
   ]
  },
  {
   "cell_type": "code",
   "execution_count": 61,
   "id": "d844219d",
   "metadata": {},
   "outputs": [],
   "source": [
    "pdf = FPDF()\n",
    "pdf.add_page()\n",
    "pdf.add_font(\"Symbola\", \"\", \"Symbola.ttf\")\n",
    "pdf.set_font(\"Symbola\", size=14)\n",
    "pdf.cell(0, 10, \"Test with Unicode: 👍😊\", new_x=XPos.LMARGIN, new_y=YPos.NEXT)\n",
    "\n",
    "pdf.output(\"test_output.pdf\")"
   ]
  },
  {
   "cell_type": "code",
   "execution_count": 125,
   "id": "a055eb89",
   "metadata": {},
   "outputs": [],
   "source": [
    "from fpdf import FPDF\n",
    "from fpdf.enums import XPos, YPos\n",
    "from textwrap import fill  \n",
    "import os\n",
    "from datetime import datetime\n",
    "\n",
    "def generate_pdf_report( academic_session, term, student_name, get_student_class, student_scores, grades, wrapped_text, average,comment, student_folder, school_name=\"KING'S COLLEGE, YABA\"):\n",
    "    pdf = FPDF()\n",
    "    pdf.add_page()\n",
    "\n",
    "    # ✅ Load and set Unicode font (ensure font file is in working directory)\n",
    "    font_path = os.path.join(os.getcwd(), \"Symbola.ttf\")\n",
    "    pdf.add_font(\"Symbola\", \"\", font_path)\n",
    "    pdf.set_font(\"Symbola\", size=14)\n",
    "\n",
    "    # Title\n",
    "    pdf.set_font(\"Helvetica\", \"B\", 14)\n",
    "    pdf.cell(200, 20, f\"{school_name}\", align=\"C\",\n",
    "             new_x=XPos.LMARGIN, new_y=YPos.NEXT)\n",
    "\n",
    "    pdf.cell(0, 20, f\"RESULT REPORT FOR {term} {academic_session} ACADEMIC SESSION.\", align=\"C\",\n",
    "             new_x=XPos.LMARGIN, new_y=YPos.NEXT)\n",
    "    pdf.ln(2)\n",
    "    \n",
    "    pdf.set_font(\"Helvetica\", \"\", 10)\n",
    "    pdf.cell(0, 10, f\"Date: {datetime.now().strftime('%d %b %Y')}\", align=\"R\", new_x=XPos.LMARGIN, new_y=YPos.NEXT)\n",
    "    pdf.ln(5)\n",
    "\n",
    "    # Name\n",
    "    pdf.cell(200, 10, f\"STUDENT'S NAME: {student_name}\", align=\"L\",\n",
    "             new_x=XPos.LMARGIN, new_y=YPos.NEXT)\n",
    "\n",
    "    # Class\n",
    "    pdf.set_font(\"Symbola\", size=12)\n",
    "    pdf.cell(200, 10, f\"STUDENT'S CLASS: {get_student_class.upper()}\", align=\"L\",\n",
    "             new_x=XPos.LMARGIN, new_y=YPos.NEXT)\n",
    "\n",
    "    pdf.ln(10)\n",
    "\n",
    "    # Table Headers\n",
    "    pdf.set_font(\"Symbola\", \"\", 12)\n",
    "    pdf.cell(60, 10, \"Subject\", border=1)\n",
    "    pdf.cell(40, 10, \"Score\", border=1)\n",
    "    pdf.cell(40, 10, \"Grade\", border=1, new_x=XPos.LMARGIN, new_y=YPos.NEXT)\n",
    "\n",
    "    # Table Rows\n",
    "    for subject in student_scores:\n",
    "        pdf.cell(60, 10, subject, border=1)\n",
    "        pdf.cell(40, 10, f\"{student_scores[subject]:.2f}\", border=1)\n",
    "        pdf.cell(40, 10, grades[subject], border=1, new_x=XPos.LMARGIN, new_y=YPos.NEXT)\n",
    "\n",
    "    pdf.ln(10)\n",
    "    \n",
    "    # Summary\n",
    "    pdf.cell(40, 20, f\"Report Summary:\")\n",
    "    pdf.ln(10)\n",
    "\n",
    "    pdf.cell(0, 10, f\"Top: {highest_subject} ({highest_score})\")\n",
    "    pdf.ln(5)\n",
    "    pdf.cell(0, 10, f\"Lowest: {lowest_subject} ({lowest_score})\")\n",
    "    pdf.ln(5)\n",
    "    pdf.cell(0, 10, f\"Average Score: {average:.2f}\")\n",
    "    pdf.ln(10)\n",
    "\n",
    "    pdf.cell(10, 10, f\"Class Teacher's Comment: {poor_subjects_text}\")\n",
    "    pdf.ln(5)\n",
    "    pdf.cell(40, 10, f\"Principal's Comment: {comment}\")\n",
    "    pdf.ln(5)\n",
    "\n",
    "    # pdf.multi_cell(\n",
    "    #     60,\n",
    "    #     10,\n",
    "    #     wrapped_text,\n",
    "    #     new_x=XPos.LMARGIN,\n",
    "    #     new_y=YPos.NEXT\n",
    "    # )\n",
    "\n",
    "\n",
    "    # pdf.ln(5)\n",
    "    # pdf.multi_cell(0, 10, wrapped_text)\n",
    "\n",
    "    # pdf.multi_cell(\n",
    "    #     0,\n",
    "    #     10,\n",
    "    #     summary_text,\n",
    "    # )\n",
    "    \n",
    "\n",
    "    # Save PDF\n",
    "    pdf_path = os.path.join(student_folder, f\"{filename}.pdf\")\n",
    "    pdf.output(pdf_path)\n",
    "    print(f\"📝 PDF saved to: {pdf_path}\")\n"
   ]
  },
  {
   "cell_type": "code",
   "execution_count": 126,
   "id": "bcbdcd50",
   "metadata": {},
   "outputs": [
    {
     "name": "stdout",
     "output_type": "stream",
     "text": [
      "📝 PDF saved to: All_Students\\Ugwu_Daniel_O_J\\2024_2025_SECOND_TERM_REPORT_CARD.pdf\n"
     ]
    }
   ],
   "source": [
    "generate_pdf_report(\n",
    "    academic_session=academic_session,\n",
    "    term=term,\n",
    "    student_name=student_name,\n",
    "    get_student_class=get_student_class,\n",
    "    student_scores=student_scores,\n",
    "    grades=grades,\n",
    "    wrapped_text=wrapped_text,\n",
    "    average=average,\n",
    "    comment=comment,\n",
    "    student_folder=student_folder\n",
    ")"
   ]
  },
  {
   "cell_type": "code",
   "execution_count": null,
   "id": "660feea5",
   "metadata": {},
   "outputs": [],
   "source": []
  }
 ],
 "metadata": {
  "kernelspec": {
   "display_name": "base",
   "language": "python",
   "name": "python3"
  },
  "language_info": {
   "codemirror_mode": {
    "name": "ipython",
    "version": 3
   },
   "file_extension": ".py",
   "mimetype": "text/x-python",
   "name": "python",
   "nbconvert_exporter": "python",
   "pygments_lexer": "ipython3",
   "version": "3.12.4"
  }
 },
 "nbformat": 4,
 "nbformat_minor": 5
}
